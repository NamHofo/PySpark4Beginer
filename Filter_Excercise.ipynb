{
 "cells": [
  {
   "cell_type": "markdown",
   "metadata": {
    "application/vnd.databricks.v1+cell": {
     "cellMetadata": {},
     "inputWidgets": {},
     "nuid": "55971ded-b61d-4f2f-b9dc-e95d77a38b9c",
     "showTitle": false,
     "tableResultSettingsMap": {},
     "title": ""
    }
   },
   "source": [
    "### Giả sử bạn có một DataFrame df_employees với các cột sau:\n",
    "\n",
    "### employee_id: Mã số nhân viên\n",
    "###name: Tên nhân viên\n",
    "###age: Tuổi của nhân viên\n",
    "###department: Phòng ban mà nhân viên làm việc (ví dụ: \"Sales\", \"Engineering\", \"HR\")\n",
    "###salary: Mức lương của nhân viên\n",
    "###city: Thành phố mà nhân viên đang sinh sống\n",
    "\n",
    "###data = [\n",
    "###    (1, \"Alice\", 30, \"Sales\", 50000, \"New York\"),\n",
    "###    (2, \"Bob\", 45, \"Engineering\", 120000, \"San Francisco\"),\n",
    "###    (3, \"Charlie\", 50, \"HR\", None, None),\n",
    "###    (4, \"David\", 29, \"Sales\", 52000, \"Los Angeles\"),\n",
    "###    (5, \"Eva\", None, \"Engineering\", 115000, \"Chicago\"),\n",
    "###    (6, \"Frank\", 35, \"Engineering\", 99000, \"New York\"),\n",
    "###    (7, \"Grace\", 27, \"Sales\", 50000, \"Chicago\")\n",
    "###]\n",
    "###columns = [\"employee_id\", \"name\", \"age\", \"department\", \"salary\", \"city\"]"
   ]
  },
  {
   "cell_type": "code",
   "execution_count": 0,
   "metadata": {
    "application/vnd.databricks.v1+cell": {
     "cellMetadata": {
      "byteLimit": 2048000,
      "rowLimit": 10000
     },
     "inputWidgets": {},
     "nuid": "edd6bd5c-9d85-4d77-94da-4405a4e9fb42",
     "showTitle": false,
     "tableResultSettingsMap": {},
     "title": ""
    }
   },
   "outputs": [],
   "source": [
    "data = [\n",
    "    (1, \"Alice\", 30, \"Sales\", 50000, \"New York\"),\n",
    "    (2, \"Bob\", 45, \"Engineering\", 120000, \"San Francisco\"),\n",
    "    (3, \"Charlie\", 50, \"HR\", None, None),\n",
    "    (4, \"David\", 29, \"Sales\", 52000, \"Los Angeles\"),\n",
    "    (5, \"Eva\", None, \"Engineering\", 115000, \"Chicago\"),\n",
    "    (6, \"Frank\", 35, \"Engineering\", 99000, \"New York\"),\n",
    "    (7, \"Grace\", 27, \"Sales\", 50000, \"Chicago\")\n",
    "]\n",
    "columns = [\"employee_id\", \"name\", \"age\", \"department\", \"salary\", \"city\"]\n",
    "\n",
    "data = spark.createDataFrame(data = data, schema = columns)"
   ]
  },
  {
   "cell_type": "code",
   "execution_count": 0,
   "metadata": {
    "application/vnd.databricks.v1+cell": {
     "cellMetadata": {
      "byteLimit": 2048000,
      "rowLimit": 10000
     },
     "inputWidgets": {},
     "nuid": "6fc776af-637a-4d81-b190-a3a4556bb5e0",
     "showTitle": false,
     "tableResultSettingsMap": {},
     "title": ""
    }
   },
   "outputs": [
    {
     "output_type": "display_data",
     "data": {
      "text/html": [
       "<style scoped>\n",
       "  .table-result-container {\n",
       "    max-height: 300px;\n",
       "    overflow: auto;\n",
       "  }\n",
       "  table, th, td {\n",
       "    border: 1px solid black;\n",
       "    border-collapse: collapse;\n",
       "  }\n",
       "  th, td {\n",
       "    padding: 5px;\n",
       "  }\n",
       "  th {\n",
       "    text-align: left;\n",
       "  }\n",
       "</style><div class='table-result-container'><table class='table-result'><thead style='background-color: white'><tr><th>employee_id</th><th>name</th><th>age</th><th>department</th><th>salary</th><th>city</th></tr></thead><tbody><tr><td>1</td><td>Alice</td><td>30</td><td>Sales</td><td>50000</td><td>New York</td></tr><tr><td>2</td><td>Bob</td><td>45</td><td>Engineering</td><td>120000</td><td>San Francisco</td></tr><tr><td>3</td><td>Charlie</td><td>50</td><td>HR</td><td>null</td><td>null</td></tr><tr><td>4</td><td>David</td><td>29</td><td>Sales</td><td>52000</td><td>Los Angeles</td></tr><tr><td>5</td><td>Eva</td><td>null</td><td>Engineering</td><td>115000</td><td>Chicago</td></tr><tr><td>6</td><td>Frank</td><td>35</td><td>Engineering</td><td>99000</td><td>New York</td></tr><tr><td>7</td><td>Grace</td><td>27</td><td>Sales</td><td>50000</td><td>Chicago</td></tr></tbody></table></div>"
      ]
     },
     "metadata": {
      "application/vnd.databricks.v1+output": {
       "addedWidgets": {},
       "aggData": [],
       "aggError": "",
       "aggOverflow": false,
       "aggSchema": [],
       "aggSeriesLimitReached": false,
       "aggType": "",
       "arguments": {},
       "columnCustomDisplayInfos": {},
       "data": [
        [
         1,
         "Alice",
         30,
         "Sales",
         50000,
         "New York"
        ],
        [
         2,
         "Bob",
         45,
         "Engineering",
         120000,
         "San Francisco"
        ],
        [
         3,
         "Charlie",
         50,
         "HR",
         null,
         null
        ],
        [
         4,
         "David",
         29,
         "Sales",
         52000,
         "Los Angeles"
        ],
        [
         5,
         "Eva",
         null,
         "Engineering",
         115000,
         "Chicago"
        ],
        [
         6,
         "Frank",
         35,
         "Engineering",
         99000,
         "New York"
        ],
        [
         7,
         "Grace",
         27,
         "Sales",
         50000,
         "Chicago"
        ]
       ],
       "datasetInfos": [],
       "dbfsResultPath": null,
       "isJsonSchema": true,
       "metadata": {},
       "overflow": false,
       "plotOptions": {
        "customPlotOptions": {},
        "displayType": "table",
        "pivotAggregation": null,
        "pivotColumns": null,
        "xColumns": null,
        "yColumns": null
       },
       "removedWidgets": [],
       "schema": [
        {
         "metadata": "{}",
         "name": "employee_id",
         "type": "\"long\""
        },
        {
         "metadata": "{}",
         "name": "name",
         "type": "\"string\""
        },
        {
         "metadata": "{}",
         "name": "age",
         "type": "\"long\""
        },
        {
         "metadata": "{}",
         "name": "department",
         "type": "\"string\""
        },
        {
         "metadata": "{}",
         "name": "salary",
         "type": "\"long\""
        },
        {
         "metadata": "{}",
         "name": "city",
         "type": "\"string\""
        }
       ],
       "type": "table"
      }
     },
     "output_type": "display_data"
    }
   ],
   "source": [
    "display(data)"
   ]
  },
  {
   "cell_type": "markdown",
   "metadata": {
    "application/vnd.databricks.v1+cell": {
     "cellMetadata": {},
     "inputWidgets": {},
     "nuid": "7b8e9ffe-6443-48a7-9c32-8bdb9a21d54a",
     "showTitle": false,
     "tableResultSettingsMap": {},
     "title": ""
    }
   },
   "source": [
    "#### Bài tập 1:Lọc ra các nhân viên có salary không bằng 50,000."
   ]
  },
  {
   "cell_type": "code",
   "execution_count": 0,
   "metadata": {
    "application/vnd.databricks.v1+cell": {
     "cellMetadata": {
      "byteLimit": 2048000,
      "rowLimit": 10000
     },
     "inputWidgets": {},
     "nuid": "0deeefba-995d-4186-a1ae-c2f8638be653",
     "showTitle": false,
     "tableResultSettingsMap": {},
     "title": ""
    }
   },
   "outputs": [
    {
     "output_type": "display_data",
     "data": {
      "text/html": [
       "<style scoped>\n",
       "  .table-result-container {\n",
       "    max-height: 300px;\n",
       "    overflow: auto;\n",
       "  }\n",
       "  table, th, td {\n",
       "    border: 1px solid black;\n",
       "    border-collapse: collapse;\n",
       "  }\n",
       "  th, td {\n",
       "    padding: 5px;\n",
       "  }\n",
       "  th {\n",
       "    text-align: left;\n",
       "  }\n",
       "</style><div class='table-result-container'><table class='table-result'><thead style='background-color: white'><tr><th>employee_id</th><th>name</th><th>age</th><th>department</th><th>salary</th><th>city</th></tr></thead><tbody><tr><td>2</td><td>Bob</td><td>45</td><td>Engineering</td><td>120000</td><td>San Francisco</td></tr><tr><td>4</td><td>David</td><td>29</td><td>Sales</td><td>52000</td><td>Los Angeles</td></tr><tr><td>5</td><td>Eva</td><td>null</td><td>Engineering</td><td>115000</td><td>Chicago</td></tr><tr><td>6</td><td>Frank</td><td>35</td><td>Engineering</td><td>99000</td><td>New York</td></tr></tbody></table></div>"
      ]
     },
     "metadata": {
      "application/vnd.databricks.v1+output": {
       "addedWidgets": {},
       "aggData": [],
       "aggError": "",
       "aggOverflow": false,
       "aggSchema": [],
       "aggSeriesLimitReached": false,
       "aggType": "",
       "arguments": {},
       "columnCustomDisplayInfos": {},
       "data": [
        [
         2,
         "Bob",
         45,
         "Engineering",
         120000,
         "San Francisco"
        ],
        [
         4,
         "David",
         29,
         "Sales",
         52000,
         "Los Angeles"
        ],
        [
         5,
         "Eva",
         null,
         "Engineering",
         115000,
         "Chicago"
        ],
        [
         6,
         "Frank",
         35,
         "Engineering",
         99000,
         "New York"
        ]
       ],
       "datasetInfos": [],
       "dbfsResultPath": null,
       "isJsonSchema": true,
       "metadata": {},
       "overflow": false,
       "plotOptions": {
        "customPlotOptions": {},
        "displayType": "table",
        "pivotAggregation": null,
        "pivotColumns": null,
        "xColumns": null,
        "yColumns": null
       },
       "removedWidgets": [],
       "schema": [
        {
         "metadata": "{}",
         "name": "employee_id",
         "type": "\"long\""
        },
        {
         "metadata": "{}",
         "name": "name",
         "type": "\"string\""
        },
        {
         "metadata": "{}",
         "name": "age",
         "type": "\"long\""
        },
        {
         "metadata": "{}",
         "name": "department",
         "type": "\"string\""
        },
        {
         "metadata": "{}",
         "name": "salary",
         "type": "\"long\""
        },
        {
         "metadata": "{}",
         "name": "city",
         "type": "\"string\""
        }
       ],
       "type": "table"
      }
     },
     "output_type": "display_data"
    }
   ],
   "source": [
    "display(data.filter(data.salary != 50000))"
   ]
  },
  {
   "cell_type": "markdown",
   "metadata": {
    "application/vnd.databricks.v1+cell": {
     "cellMetadata": {},
     "inputWidgets": {},
     "nuid": "674968aa-77ae-43a7-b8fd-246ccd7bc321",
     "showTitle": false,
     "tableResultSettingsMap": {},
     "title": ""
    }
   },
   "source": [
    "#### Bài tập 2: Lọc ra các nhân viên có age lớn hơn 50 và salary lớn hơn 50,000."
   ]
  },
  {
   "cell_type": "code",
   "execution_count": 0,
   "metadata": {
    "application/vnd.databricks.v1+cell": {
     "cellMetadata": {
      "byteLimit": 2048000,
      "rowLimit": 10000
     },
     "inputWidgets": {},
     "nuid": "07d8ac5f-81f3-4a01-b769-239b6781cd68",
     "showTitle": false,
     "tableResultSettingsMap": {},
     "title": ""
    }
   },
   "outputs": [
    {
     "output_type": "stream",
     "name": "stdout",
     "output_type": "stream",
     "text": [
      "+-----------+----+---+----------+------+----+\n|employee_id|name|age|department|salary|city|\n+-----------+----+---+----------+------+----+\n+-----------+----+---+----------+------+----+\n\n"
     ]
    }
   ],
   "source": [
    "data.filter((data.age > 50) & (data.salary > 50000)).show()"
   ]
  },
  {
   "cell_type": "markdown",
   "metadata": {
    "application/vnd.databricks.v1+cell": {
     "cellMetadata": {},
     "inputWidgets": {},
     "nuid": "0728a836-9ea7-417c-ba54-31978251f305",
     "showTitle": false,
     "tableResultSettingsMap": {},
     "title": ""
    }
   },
   "source": [
    "####Bài tập 3: Lọc ra tất cả các nhân viên không có thông tin về salary."
   ]
  },
  {
   "cell_type": "code",
   "execution_count": 0,
   "metadata": {
    "application/vnd.databricks.v1+cell": {
     "cellMetadata": {
      "byteLimit": 2048000,
      "rowLimit": 10000
     },
     "inputWidgets": {},
     "nuid": "083921fd-9f22-4287-8b77-0f6a4d8a1a47",
     "showTitle": false,
     "tableResultSettingsMap": {},
     "title": ""
    }
   },
   "outputs": [
    {
     "output_type": "stream",
     "name": "stdout",
     "output_type": "stream",
     "text": [
      "+-----------+-------+---+----------+------+----+\n|employee_id|   name|age|department|salary|city|\n+-----------+-------+---+----------+------+----+\n|          3|Charlie| 50|        HR|  null|null|\n+-----------+-------+---+----------+------+----+\n\n"
     ]
    }
   ],
   "source": [
    "data.filter(data.salary.isNull()).show()"
   ]
  },
  {
   "cell_type": "markdown",
   "metadata": {
    "application/vnd.databricks.v1+cell": {
     "cellMetadata": {},
     "inputWidgets": {},
     "nuid": "3fe2f1c5-fb60-4c94-9aac-8d65dd06310a",
     "showTitle": false,
     "tableResultSettingsMap": {},
     "title": ""
    }
   },
   "source": [
    "#### Bài tập 4: Lọc ra các nhân viên có city chứa từ \"New\"."
   ]
  },
  {
   "cell_type": "code",
   "execution_count": 0,
   "metadata": {
    "application/vnd.databricks.v1+cell": {
     "cellMetadata": {
      "byteLimit": 2048000,
      "rowLimit": 10000
     },
     "inputWidgets": {},
     "nuid": "f2fa2223-0d6e-440a-9553-45f3ecbda162",
     "showTitle": false,
     "tableResultSettingsMap": {},
     "title": ""
    }
   },
   "outputs": [
    {
     "output_type": "stream",
     "name": "stdout",
     "output_type": "stream",
     "text": [
      "+-----------+-----+---+-----------+------+--------+\n|employee_id| name|age| department|salary|    city|\n+-----------+-----+---+-----------+------+--------+\n|          1|Alice| 30|      Sales| 50000|New York|\n|          6|Frank| 35|Engineering| 99000|New York|\n+-----------+-----+---+-----------+------+--------+\n\n"
     ]
    }
   ],
   "source": [
    "data.filter(data.city.like(\"%New%\")).show()"
   ]
  },
  {
   "cell_type": "markdown",
   "metadata": {
    "application/vnd.databricks.v1+cell": {
     "cellMetadata": {},
     "inputWidgets": {},
     "nuid": "f3b5d633-5485-4b9c-807f-19c6341b4e3a",
     "showTitle": false,
     "tableResultSettingsMap": {},
     "title": ""
    }
   },
   "source": [
    "#### Bài tập 5:  Lọc ra các nhân viên có department là \"Sales\" hoặc \"HR\"."
   ]
  },
  {
   "cell_type": "code",
   "execution_count": 0,
   "metadata": {
    "application/vnd.databricks.v1+cell": {
     "cellMetadata": {
      "byteLimit": 2048000,
      "rowLimit": 10000
     },
     "inputWidgets": {},
     "nuid": "43dcc192-0a56-43f8-b229-c1db2f9041e8",
     "showTitle": false,
     "tableResultSettingsMap": {},
     "title": ""
    }
   },
   "outputs": [
    {
     "output_type": "stream",
     "name": "stdout",
     "output_type": "stream",
     "text": [
      "+-----------+-------+---+----------+------+-----------+\n|employee_id|   name|age|department|salary|       city|\n+-----------+-------+---+----------+------+-----------+\n|          1|  Alice| 30|     Sales| 50000|   New York|\n|          3|Charlie| 50|        HR|  null|       null|\n|          4|  David| 29|     Sales| 52000|Los Angeles|\n|          7|  Grace| 27|     Sales| 50000|    Chicago|\n+-----------+-------+---+----------+------+-----------+\n\n"
     ]
    }
   ],
   "source": [
    "data.filter(data.department.isin(\"Sales\",\"HR\")).show()"
   ]
  },
  {
   "cell_type": "markdown",
   "metadata": {
    "application/vnd.databricks.v1+cell": {
     "cellMetadata": {},
     "inputWidgets": {},
     "nuid": "03f4d472-4ac2-4fb4-b3ea-8487ac020069",
     "showTitle": false,
     "tableResultSettingsMap": {},
     "title": ""
    }
   },
   "source": [
    "#### Bài tập 6: Lọc ra các nhân viên có name chứa chữ cái \"a\"."
   ]
  },
  {
   "cell_type": "code",
   "execution_count": 0,
   "metadata": {
    "application/vnd.databricks.v1+cell": {
     "cellMetadata": {
      "byteLimit": 2048000,
      "rowLimit": 10000
     },
     "inputWidgets": {},
     "nuid": "4845515f-1dd2-4ebf-8cd5-9b2357c87517",
     "showTitle": false,
     "tableResultSettingsMap": {},
     "title": ""
    }
   },
   "outputs": [
    {
     "output_type": "stream",
     "name": "stdout",
     "output_type": "stream",
     "text": [
      "+-----------+-------+----+-----------+------+-----------+\n|employee_id|   name| age| department|salary|       city|\n+-----------+-------+----+-----------+------+-----------+\n|          3|Charlie|  50|         HR|  null|       null|\n|          4|  David|  29|      Sales| 52000|Los Angeles|\n|          5|    Eva|null|Engineering|115000|    Chicago|\n|          6|  Frank|  35|Engineering| 99000|   New York|\n|          7|  Grace|  27|      Sales| 50000|    Chicago|\n+-----------+-------+----+-----------+------+-----------+\n\n"
     ]
    }
   ],
   "source": [
    "data.filter(data.name.contains(\"a\")).show()"
   ]
  },
  {
   "cell_type": "markdown",
   "metadata": {
    "application/vnd.databricks.v1+cell": {
     "cellMetadata": {},
     "inputWidgets": {},
     "nuid": "f96ee631-6bc2-4d98-83da-9c4d17b3b81e",
     "showTitle": false,
     "tableResultSettingsMap": {},
     "title": ""
    }
   },
   "source": [
    "### Bài tập 7: Lọc ra các nhân viên có tên bắt đầu bằng \"D\"."
   ]
  },
  {
   "cell_type": "code",
   "execution_count": 0,
   "metadata": {
    "application/vnd.databricks.v1+cell": {
     "cellMetadata": {
      "byteLimit": 2048000,
      "rowLimit": 10000
     },
     "inputWidgets": {},
     "nuid": "849393c3-f5a8-4071-b641-ef6ded4b10ec",
     "showTitle": false,
     "tableResultSettingsMap": {},
     "title": ""
    }
   },
   "outputs": [
    {
     "output_type": "stream",
     "name": "stdout",
     "output_type": "stream",
     "text": [
      "+-----------+-----+---+----------+------+-----------+\n|employee_id| name|age|department|salary|       city|\n+-----------+-----+---+----------+------+-----------+\n|          4|David| 29|     Sales| 52000|Los Angeles|\n+-----------+-----+---+----------+------+-----------+\n\n"
     ]
    }
   ],
   "source": [
    "data.filter(data.name.startswith(\"D\")).show()"
   ]
  },
  {
   "cell_type": "markdown",
   "metadata": {
    "application/vnd.databricks.v1+cell": {
     "cellMetadata": {},
     "inputWidgets": {},
     "nuid": "fafc96e0-7b5a-4bf5-9d46-b0398aafa93c",
     "showTitle": false,
     "tableResultSettingsMap": {},
     "title": ""
    }
   },
   "source": [
    "### Bài tập 8: Lọc ra các nhân viên có city kết thúc bằng \"go\"."
   ]
  },
  {
   "cell_type": "code",
   "execution_count": 0,
   "metadata": {
    "application/vnd.databricks.v1+cell": {
     "cellMetadata": {
      "byteLimit": 2048000,
      "rowLimit": 10000
     },
     "inputWidgets": {},
     "nuid": "fc809b04-c3f0-4d3f-84e3-f55494383f6e",
     "showTitle": false,
     "tableResultSettingsMap": {},
     "title": ""
    }
   },
   "outputs": [
    {
     "output_type": "stream",
     "name": "stdout",
     "output_type": "stream",
     "text": [
      "+-----------+-----+----+-----------+------+-------+\n|employee_id| name| age| department|salary|   city|\n+-----------+-----+----+-----------+------+-------+\n|          5|  Eva|null|Engineering|115000|Chicago|\n|          7|Grace|  27|      Sales| 50000|Chicago|\n+-----------+-----+----+-----------+------+-------+\n\n"
     ]
    }
   ],
   "source": [
    "data.filter(data.city.endswith(\"go\")).show()"
   ]
  },
  {
   "cell_type": "markdown",
   "metadata": {
    "application/vnd.databricks.v1+cell": {
     "cellMetadata": {},
     "inputWidgets": {},
     "nuid": "cdc751e7-21f9-45cb-ba78-c748de2613ca",
     "showTitle": false,
     "tableResultSettingsMap": {},
     "title": ""
    }
   },
   "source": [
    "### Nâng cao"
   ]
  },
  {
   "cell_type": "markdown",
   "metadata": {
    "application/vnd.databricks.v1+cell": {
     "cellMetadata": {},
     "inputWidgets": {},
     "nuid": "89853ade-6351-40d7-9826-18e256464b95",
     "showTitle": false,
     "tableResultSettingsMap": {},
     "title": ""
    }
   },
   "source": [
    "####Bài tập 1: Lọc kết hợp nhiều điều kiện với AND và OR\n",
    "######Yêu cầu:\n",
    "######Lọc ra các nhân viên lớn hơn 40 tuổi và có mức lương trên 90,000, hoặc làm việc trong bộ phận \"HR\"."
   ]
  },
  {
   "cell_type": "code",
   "execution_count": 0,
   "metadata": {
    "application/vnd.databricks.v1+cell": {
     "cellMetadata": {
      "byteLimit": 2048000,
      "rowLimit": 10000
     },
     "inputWidgets": {},
     "nuid": "116899d2-1e0e-4061-b771-df9f49f08b0d",
     "showTitle": false,
     "tableResultSettingsMap": {},
     "title": ""
    }
   },
   "outputs": [
    {
     "output_type": "stream",
     "name": "stdout",
     "output_type": "stream",
     "text": [
      "+-----------+-------+---+-----------+------+-------------+\n|employee_id|   name|age| department|salary|         city|\n+-----------+-------+---+-----------+------+-------------+\n|          2|    Bob| 45|Engineering|120000|San Francisco|\n|          3|Charlie| 50|         HR|  null|         null|\n+-----------+-------+---+-----------+------+-------------+\n\n"
     ]
    }
   ],
   "source": [
    "data.filter((data.age > 40) & (data.salary > 90000) | data.department.like(\"HR\")).show()"
   ]
  },
  {
   "cell_type": "markdown",
   "metadata": {
    "application/vnd.databricks.v1+cell": {
     "cellMetadata": {},
     "inputWidgets": {},
     "nuid": "28b26949-3f69-4ae4-995b-dabc2fbc89e9",
     "showTitle": false,
     "tableResultSettingsMap": {},
     "title": ""
    }
   },
   "source": [
    "####Bài tập 2: Lọc dữ liệu sử dụng regexp_extract\n",
    "#####Yêu cầu:\n",
    "#####Lọc ra các nhân viên làm việc trong thành phố có tên bắt đầu bằng chữ cái \"C\""
   ]
  },
  {
   "cell_type": "code",
   "execution_count": 0,
   "metadata": {
    "application/vnd.databricks.v1+cell": {
     "cellMetadata": {
      "byteLimit": 2048000,
      "rowLimit": 10000
     },
     "inputWidgets": {},
     "nuid": "7c15d462-a9f3-4e9f-9931-64382ed76ac9",
     "showTitle": false,
     "tableResultSettingsMap": {},
     "title": ""
    }
   },
   "outputs": [
    {
     "output_type": "stream",
     "name": "stdout",
     "output_type": "stream",
     "text": [
      "+-----------+-----+----+-----------+------+-------+\n|employee_id| name| age| department|salary|   city|\n+-----------+-----+----+-----------+------+-------+\n|          5|  Eva|null|Engineering|115000|Chicago|\n|          7|Grace|  27|      Sales| 50000|Chicago|\n+-----------+-----+----+-----------+------+-------+\n\n"
     ]
    }
   ],
   "source": [
    "data.filter(data.city.startswith(\"C\")).show()"
   ]
  },
  {
   "cell_type": "markdown",
   "metadata": {
    "application/vnd.databricks.v1+cell": {
     "cellMetadata": {},
     "inputWidgets": {},
     "nuid": "775d20ba-e054-42d9-a78c-79cad97f0f63",
     "showTitle": false,
     "tableResultSettingsMap": {},
     "title": ""
    }
   },
   "source": [
    "###### Hoặc có thể sử dụng regular expression "
   ]
  },
  {
   "cell_type": "code",
   "execution_count": 0,
   "metadata": {
    "application/vnd.databricks.v1+cell": {
     "cellMetadata": {
      "byteLimit": 2048000,
      "rowLimit": 10000
     },
     "inputWidgets": {},
     "nuid": "22c5c132-a6ab-4a58-aa46-546aad7425d3",
     "showTitle": false,
     "tableResultSettingsMap": {},
     "title": ""
    }
   },
   "outputs": [
    {
     "output_type": "stream",
     "name": "stdout",
     "output_type": "stream",
     "text": [
      "+-----------+-----+----+-----------+------+-------+\n|employee_id| name| age| department|salary|   city|\n+-----------+-----+----+-----------+------+-------+\n|          5|  Eva|null|Engineering|115000|Chicago|\n|          7|Grace|  27|      Sales| 50000|Chicago|\n+-----------+-----+----+-----------+------+-------+\n\n"
     ]
    }
   ],
   "source": [
    "from pyspark.sql import functions as f\n",
    "data.filter(f.regexp_extract(data.city, \"^C\", 0) != \"\").show()"
   ]
  },
  {
   "cell_type": "markdown",
   "metadata": {
    "application/vnd.databricks.v1+cell": {
     "cellMetadata": {},
     "inputWidgets": {},
     "nuid": "7d5b694d-3321-4652-917c-2e14d18322e8",
     "showTitle": false,
     "tableResultSettingsMap": {},
     "title": ""
    }
   },
   "source": [
    "####Bài tập 4: Lọc dữ liệu với điều kiện động\n",
    "#####Yêu cầu:\n",
    "#####Lọc ra các nhân viên có salary nằm trong khoảng từ 50,000 đến 100,000 và sắp xếp theo age giảm dần."
   ]
  },
  {
   "cell_type": "code",
   "execution_count": 0,
   "metadata": {
    "application/vnd.databricks.v1+cell": {
     "cellMetadata": {
      "byteLimit": 2048000,
      "rowLimit": 10000
     },
     "inputWidgets": {},
     "nuid": "5d148422-1ca3-4ac0-9f58-256328b6d4d1",
     "showTitle": false,
     "tableResultSettingsMap": {},
     "title": ""
    }
   },
   "outputs": [
    {
     "output_type": "stream",
     "name": "stdout",
     "output_type": "stream",
     "text": [
      "+-----------+-----+---+-----------+------+-----------+\n|employee_id| name|age| department|salary|       city|\n+-----------+-----+---+-----------+------+-----------+\n|          6|Frank| 35|Engineering| 99000|   New York|\n|          1|Alice| 30|      Sales| 50000|   New York|\n|          4|David| 29|      Sales| 52000|Los Angeles|\n|          7|Grace| 27|      Sales| 50000|    Chicago|\n+-----------+-----+---+-----------+------+-----------+\n\n"
     ]
    }
   ],
   "source": [
    "data.filter((data.salary>=50000) & (data.salary <=100000)).orderBy(data.age.desc()).show()"
   ]
  },
  {
   "cell_type": "markdown",
   "metadata": {
    "application/vnd.databricks.v1+cell": {
     "cellMetadata": {},
     "inputWidgets": {},
     "nuid": "df2ae9c0-200b-42b3-b355-a3d0c1f174c1",
     "showTitle": false,
     "tableResultSettingsMap": {},
     "title": ""
    }
   },
   "source": [
    "####Bài tập 5: Lọc dữ liệu với hàm when để tạo cột mới và sau đó lọc\n",
    "#####Yêu cầu:\n",
    "#####Tạo một cột mới tên là high_salary với giá trị \"Yes\" nếu salary lớn hơn 100,000 và \"No\" nếu ngược lại. Sau đó, lọc chỉ các nhân viên có high_salary là \"Yes\"."
   ]
  },
  {
   "cell_type": "code",
   "execution_count": 0,
   "metadata": {
    "application/vnd.databricks.v1+cell": {
     "cellMetadata": {
      "byteLimit": 2048000,
      "rowLimit": 10000
     },
     "inputWidgets": {},
     "nuid": "297f0db6-a4ec-4c50-b6f4-f6d62331ac9b",
     "showTitle": false,
     "tableResultSettingsMap": {},
     "title": ""
    }
   },
   "outputs": [
    {
     "output_type": "display_data",
     "data": {
      "text/html": [
       "<style scoped>\n",
       "  .table-result-container {\n",
       "    max-height: 300px;\n",
       "    overflow: auto;\n",
       "  }\n",
       "  table, th, td {\n",
       "    border: 1px solid black;\n",
       "    border-collapse: collapse;\n",
       "  }\n",
       "  th, td {\n",
       "    padding: 5px;\n",
       "  }\n",
       "  th {\n",
       "    text-align: left;\n",
       "  }\n",
       "</style><div class='table-result-container'><table class='table-result'><thead style='background-color: white'><tr><th>employee_id</th><th>name</th><th>age</th><th>department</th><th>salary</th><th>city</th><th>high_salary</th></tr></thead><tbody><tr><td>1</td><td>Alice</td><td>30</td><td>Sales</td><td>50000</td><td>New York</td><td>No</td></tr><tr><td>2</td><td>Bob</td><td>45</td><td>Engineering</td><td>120000</td><td>San Francisco</td><td>Yes</td></tr><tr><td>3</td><td>Charlie</td><td>50</td><td>HR</td><td>null</td><td>null</td><td>No</td></tr><tr><td>4</td><td>David</td><td>29</td><td>Sales</td><td>52000</td><td>Los Angeles</td><td>No</td></tr><tr><td>5</td><td>Eva</td><td>null</td><td>Engineering</td><td>115000</td><td>Chicago</td><td>Yes</td></tr><tr><td>6</td><td>Frank</td><td>35</td><td>Engineering</td><td>99000</td><td>New York</td><td>No</td></tr><tr><td>7</td><td>Grace</td><td>27</td><td>Sales</td><td>50000</td><td>Chicago</td><td>No</td></tr></tbody></table></div>"
      ]
     },
     "metadata": {
      "application/vnd.databricks.v1+output": {
       "addedWidgets": {},
       "aggData": [],
       "aggError": "",
       "aggOverflow": false,
       "aggSchema": [],
       "aggSeriesLimitReached": false,
       "aggType": "",
       "arguments": {},
       "columnCustomDisplayInfos": {},
       "data": [
        [
         1,
         "Alice",
         30,
         "Sales",
         50000,
         "New York",
         "No"
        ],
        [
         2,
         "Bob",
         45,
         "Engineering",
         120000,
         "San Francisco",
         "Yes"
        ],
        [
         3,
         "Charlie",
         50,
         "HR",
         null,
         null,
         "No"
        ],
        [
         4,
         "David",
         29,
         "Sales",
         52000,
         "Los Angeles",
         "No"
        ],
        [
         5,
         "Eva",
         null,
         "Engineering",
         115000,
         "Chicago",
         "Yes"
        ],
        [
         6,
         "Frank",
         35,
         "Engineering",
         99000,
         "New York",
         "No"
        ],
        [
         7,
         "Grace",
         27,
         "Sales",
         50000,
         "Chicago",
         "No"
        ]
       ],
       "datasetInfos": [],
       "dbfsResultPath": null,
       "isJsonSchema": true,
       "metadata": {},
       "overflow": false,
       "plotOptions": {
        "customPlotOptions": {},
        "displayType": "table",
        "pivotAggregation": null,
        "pivotColumns": null,
        "xColumns": null,
        "yColumns": null
       },
       "removedWidgets": [],
       "schema": [
        {
         "metadata": "{}",
         "name": "employee_id",
         "type": "\"long\""
        },
        {
         "metadata": "{}",
         "name": "name",
         "type": "\"string\""
        },
        {
         "metadata": "{}",
         "name": "age",
         "type": "\"long\""
        },
        {
         "metadata": "{}",
         "name": "department",
         "type": "\"string\""
        },
        {
         "metadata": "{}",
         "name": "salary",
         "type": "\"long\""
        },
        {
         "metadata": "{}",
         "name": "city",
         "type": "\"string\""
        },
        {
         "metadata": "{}",
         "name": "high_salary",
         "type": "\"string\""
        }
       ],
       "type": "table"
      }
     },
     "output_type": "display_data"
    }
   ],
   "source": [
    "from pyspark.sql.functions import when #using when in functions\n",
    "data_high_sala= data.withColumn(\"high_salary\", when(data.salary > 100000, \"Yes\").otherwise(\"No\")) #withColumn: Add new Col\n",
    "display(data_high_sala)"
   ]
  },
  {
   "cell_type": "code",
   "execution_count": 0,
   "metadata": {
    "application/vnd.databricks.v1+cell": {
     "cellMetadata": {
      "byteLimit": 2048000,
      "rowLimit": 10000
     },
     "inputWidgets": {},
     "nuid": "8ce256ab-e040-4682-8780-ea0ce0cdba8e",
     "showTitle": false,
     "tableResultSettingsMap": {},
     "title": ""
    }
   },
   "outputs": [
    {
     "output_type": "display_data",
     "data": {
      "text/html": [
       "<style scoped>\n",
       "  .table-result-container {\n",
       "    max-height: 300px;\n",
       "    overflow: auto;\n",
       "  }\n",
       "  table, th, td {\n",
       "    border: 1px solid black;\n",
       "    border-collapse: collapse;\n",
       "  }\n",
       "  th, td {\n",
       "    padding: 5px;\n",
       "  }\n",
       "  th {\n",
       "    text-align: left;\n",
       "  }\n",
       "</style><div class='table-result-container'><table class='table-result'><thead style='background-color: white'><tr><th>employee_id</th><th>name</th><th>age</th><th>department</th><th>salary</th><th>city</th><th>high_salary</th></tr></thead><tbody><tr><td>1</td><td>Alice</td><td>30</td><td>Sales</td><td>50000</td><td>New York</td><td>No</td></tr><tr><td>2</td><td>Bob</td><td>45</td><td>Engineering</td><td>120000</td><td>San Francisco</td><td>Yes</td></tr><tr><td>3</td><td>Charlie</td><td>50</td><td>HR</td><td>null</td><td>null</td><td>No</td></tr><tr><td>4</td><td>David</td><td>29</td><td>Sales</td><td>52000</td><td>Los Angeles</td><td>No</td></tr><tr><td>5</td><td>Eva</td><td>null</td><td>Engineering</td><td>115000</td><td>Chicago</td><td>Yes</td></tr><tr><td>6</td><td>Frank</td><td>35</td><td>Engineering</td><td>99000</td><td>New York</td><td>No</td></tr><tr><td>7</td><td>Grace</td><td>27</td><td>Sales</td><td>50000</td><td>Chicago</td><td>No</td></tr></tbody></table></div>"
      ]
     },
     "metadata": {
      "application/vnd.databricks.v1+output": {
       "addedWidgets": {},
       "aggData": [],
       "aggError": "",
       "aggOverflow": false,
       "aggSchema": [],
       "aggSeriesLimitReached": false,
       "aggType": "",
       "arguments": {},
       "columnCustomDisplayInfos": {},
       "data": [
        [
         1,
         "Alice",
         30,
         "Sales",
         50000,
         "New York",
         "No"
        ],
        [
         2,
         "Bob",
         45,
         "Engineering",
         120000,
         "San Francisco",
         "Yes"
        ],
        [
         3,
         "Charlie",
         50,
         "HR",
         null,
         null,
         "No"
        ],
        [
         4,
         "David",
         29,
         "Sales",
         52000,
         "Los Angeles",
         "No"
        ],
        [
         5,
         "Eva",
         null,
         "Engineering",
         115000,
         "Chicago",
         "Yes"
        ],
        [
         6,
         "Frank",
         35,
         "Engineering",
         99000,
         "New York",
         "No"
        ],
        [
         7,
         "Grace",
         27,
         "Sales",
         50000,
         "Chicago",
         "No"
        ]
       ],
       "datasetInfos": [],
       "dbfsResultPath": null,
       "isJsonSchema": true,
       "metadata": {},
       "overflow": false,
       "plotOptions": {
        "customPlotOptions": {},
        "displayType": "table",
        "pivotAggregation": null,
        "pivotColumns": null,
        "xColumns": null,
        "yColumns": null
       },
       "removedWidgets": [],
       "schema": [
        {
         "metadata": "{}",
         "name": "employee_id",
         "type": "\"long\""
        },
        {
         "metadata": "{}",
         "name": "name",
         "type": "\"string\""
        },
        {
         "metadata": "{}",
         "name": "age",
         "type": "\"long\""
        },
        {
         "metadata": "{}",
         "name": "department",
         "type": "\"string\""
        },
        {
         "metadata": "{}",
         "name": "salary",
         "type": "\"long\""
        },
        {
         "metadata": "{}",
         "name": "city",
         "type": "\"string\""
        },
        {
         "metadata": "{}",
         "name": "high_salary",
         "type": "\"string\""
        }
       ],
       "type": "table"
      }
     },
     "output_type": "display_data"
    }
   ],
   "source": [
    "data=data.withColumn(\"high_salary\",when(data.salary>100000,\"Yes\").otherwise(\"No\"))\n",
    "display(data)"
   ]
  },
  {
   "cell_type": "markdown",
   "metadata": {
    "application/vnd.databricks.v1+cell": {
     "cellMetadata": {},
     "inputWidgets": {},
     "nuid": "ceecca0d-6b32-4298-82f0-4515da148a80",
     "showTitle": false,
     "tableResultSettingsMap": {},
     "title": ""
    }
   },
   "source": [
    "####Bài tập 6: Lọc với groupBy và having\n",
    "#####Yêu cầu:\n",
    "#####Nhóm nhân viên theo department, tính lương trung bình và lọc chỉ các phòng ban có lương trung bình lớn hơn 70,000."
   ]
  },
  {
   "cell_type": "code",
   "execution_count": 0,
   "metadata": {
    "application/vnd.databricks.v1+cell": {
     "cellMetadata": {
      "byteLimit": 2048000,
      "rowLimit": 10000
     },
     "inputWidgets": {},
     "nuid": "cecbfc75-ae83-4760-85ff-84f757ec594d",
     "showTitle": false,
     "tableResultSettingsMap": {},
     "title": ""
    }
   },
   "outputs": [
    {
     "output_type": "stream",
     "name": "stdout",
     "output_type": "stream",
     "text": [
      "+-----------+------------------+\n| department|       avg(salary)|\n+-----------+------------------+\n|Engineering|111333.33333333333|\n+-----------+------------------+\n\n"
     ]
    }
   ],
   "source": [
    "data.groupBy(\"department\")\\\n",
    "    .avg(\"salary\")\\\n",
    "    .filter(\"avg(salary)>70000\").show()\n",
    "\n"
   ]
  },
  {
   "cell_type": "markdown",
   "metadata": {
    "application/vnd.databricks.v1+cell": {
     "cellMetadata": {},
     "inputWidgets": {},
     "nuid": "9b82a82a-0eb0-4ed2-a833-c75191b20d96",
     "showTitle": false,
     "tableResultSettingsMap": {},
     "title": ""
    }
   },
   "source": []
  },
  {
   "cell_type": "markdown",
   "metadata": {
    "application/vnd.databricks.v1+cell": {
     "cellMetadata": {},
     "inputWidgets": {},
     "nuid": "9221164a-49b0-402b-9d4e-a27ebebdff31",
     "showTitle": false,
     "tableResultSettingsMap": {},
     "title": ""
    }
   },
   "source": [
    "####Bài tập 8: Lọc với hàm distinct và count\n",
    "#####Yêu cầu:\n",
    "#####Lọc ra các phòng ban có từ 2 nhân viên trở lên và hiển thị tên các phòng ban đó."
   ]
  },
  {
   "cell_type": "code",
   "execution_count": 0,
   "metadata": {
    "application/vnd.databricks.v1+cell": {
     "cellMetadata": {
      "byteLimit": 2048000,
      "rowLimit": 10000
     },
     "inputWidgets": {},
     "nuid": "ab21e59f-6606-4a75-9846-ee480ef81e9b",
     "showTitle": false,
     "tableResultSettingsMap": {},
     "title": ""
    }
   },
   "outputs": [
    {
     "output_type": "stream",
     "name": "stdout",
     "output_type": "stream",
     "text": [
      "+-----------+\n| department|\n+-----------+\n|      Sales|\n|Engineering|\n+-----------+\n\n"
     ]
    }
   ],
   "source": [
    "data_new=data.groupBy(\"department\")\\\n",
    "    .count()\\\n",
    "    .filter(\"count>=2\")\n",
    "data_new.select(\"department\").show()"
   ]
  }
 ],
 "metadata": {
  "application/vnd.databricks.v1+notebook": {
   "dashboards": [],
   "environmentMetadata": null,
   "language": "python",
   "notebookMetadata": {
    "pythonIndentUnit": 4
   },
   "notebookName": "Filter_Excercise",
   "widgets": {}
  }
 },
 "nbformat": 4,
 "nbformat_minor": 0
}
