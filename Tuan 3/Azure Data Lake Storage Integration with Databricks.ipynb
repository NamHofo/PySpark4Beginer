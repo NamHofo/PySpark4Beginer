{
 "cells": [
  {
   "cell_type": "markdown",
   "metadata": {
    "application/vnd.databricks.v1+cell": {
     "cellMetadata": {},
     "inputWidgets": {},
     "nuid": "c0c9b9fe-5a01-496b-bad0-40908efb009b",
     "showTitle": false,
     "tableResultSettingsMap": {},
     "title": ""
    }
   },
   "source": [
    "## Method 1: Using ADLS access key directly"
   ]
  },
  {
   "cell_type": "code",
   "execution_count": 0,
   "metadata": {
    "application/vnd.databricks.v1+cell": {
     "cellMetadata": {
      "byteLimit": 2048000,
      "rowLimit": 10000
     },
     "inputWidgets": {},
     "nuid": "852ea62c-c46e-4b95-bc71-068b5001a590",
     "showTitle": false,
     "tableResultSettingsMap": {},
     "title": ""
    }
   },
   "outputs": [],
   "source": [
    "spark.conf.set(\n",
    "  \"fs.azure.account.key.namhofo24.dfs.core.windows.net\",\n",
    "  \"8uETQON3UR7AgmyD8oWMlGPQws/yi4mFOWE5UsngJnAwJBJGcUa69TK9/D8Tl9ZAKuRyDMVHAyp2+AStOoqzFQ==\"\n",
    ")"
   ]
  },
  {
   "cell_type": "code",
   "execution_count": 0,
   "metadata": {
    "application/vnd.databricks.v1+cell": {
     "cellMetadata": {
      "byteLimit": 2048000,
      "rowLimit": 10000
     },
     "inputWidgets": {},
     "nuid": "d19ce547-ce0d-4579-938d-4043ca87126f",
     "showTitle": false,
     "tableResultSettingsMap": {},
     "title": ""
    }
   },
   "outputs": [
    {
     "output_type": "stream",
     "name": "stdout",
     "output_type": "stream",
     "text": [
      "Out[3]: [FileInfo(path='abfss://container-namhofo24@namhofo24.dfs.core.windows.net/Baby_Name_2007_2009.csv', name='Baby_Name_2007_2009.csv', size=2565, modificationTime=1732087210000)]"
     ]
    }
   ],
   "source": [
    "dbutils.fs.ls(\"abfss://container-namhofo24@namhofo24.dfs.core.windows.net/\")"
   ]
  },
  {
   "cell_type": "code",
   "execution_count": 0,
   "metadata": {
    "application/vnd.databricks.v1+cell": {
     "cellMetadata": {
      "byteLimit": 2048000,
      "rowLimit": 10000
     },
     "inputWidgets": {},
     "nuid": "fc92dc06-4fd6-4f43-af55-64ef4507b82d",
     "showTitle": false,
     "tableResultSettingsMap": {},
     "title": ""
    }
   },
   "outputs": [
    {
     "output_type": "display_data",
     "data": {
      "text/html": [
       "<style scoped>\n",
       "  .table-result-container {\n",
       "    max-height: 300px;\n",
       "    overflow: auto;\n",
       "  }\n",
       "  table, th, td {\n",
       "    border: 1px solid black;\n",
       "    border-collapse: collapse;\n",
       "  }\n",
       "  th, td {\n",
       "    padding: 5px;\n",
       "  }\n",
       "  th {\n",
       "    text-align: left;\n",
       "  }\n",
       "</style><div class='table-result-container'><table class='table-result'><thead style='background-color: white'><tr><th>Year</th><th>First Name</th><th>Country</th><th>Sex</th><th>Count</th></tr></thead><tbody><tr><td>2007</td><td>Isabella</td><td>UK</td><td>F</td><td>5440</td></tr><tr><td>2008</td><td>Benjamin</td><td>Canada</td><td>M</td><td>19760</td></tr><tr><td>2009</td><td>Logan</td><td>Canada</td><td>M</td><td>15445</td></tr><tr><td>2009</td><td>Grace</td><td>USA</td><td>F</td><td>9383</td></tr><tr><td>2008</td><td>Emma</td><td>USA</td><td>M</td><td>2334</td></tr><tr><td>2007</td><td>Sophia</td><td>USA</td><td>F</td><td>11260</td></tr><tr><td>2008</td><td>Henry</td><td>Australia</td><td>M</td><td>14382</td></tr><tr><td>2009</td><td>Mia</td><td>Australia</td><td>F</td><td>8395</td></tr><tr><td>2007</td><td>Lily</td><td>Canada</td><td>F</td><td>2916</td></tr><tr><td>2007</td><td>Grace</td><td>Canada</td><td>M</td><td>13877</td></tr><tr><td>2009</td><td>Lily</td><td>USA</td><td>F</td><td>12418</td></tr><tr><td>2007</td><td>Alexander</td><td>UK</td><td>F</td><td>14359</td></tr><tr><td>2008</td><td>Emma</td><td>Canada</td><td>F</td><td>2804</td></tr><tr><td>2008</td><td>Sophia</td><td>UK</td><td>M</td><td>18111</td></tr><tr><td>2009</td><td>Ethan</td><td>Canada</td><td>M</td><td>1768</td></tr><tr><td>2009</td><td>Ethan</td><td>UK</td><td>M</td><td>7506</td></tr><tr><td>2007</td><td>Lucas</td><td>UK</td><td>M</td><td>15791</td></tr><tr><td>2007</td><td>Sophia</td><td>USA</td><td>M</td><td>8797</td></tr><tr><td>2008</td><td>Ava</td><td>Canada</td><td>M</td><td>10185</td></tr><tr><td>2009</td><td>Zoey</td><td>USA</td><td>F</td><td>1705</td></tr><tr><td>2009</td><td>Logan</td><td>USA</td><td>M</td><td>4101</td></tr><tr><td>2009</td><td>Sophia</td><td>USA</td><td>F</td><td>852</td></tr><tr><td>2008</td><td>James</td><td>Australia</td><td>M</td><td>6792</td></tr><tr><td>2009</td><td>Mason</td><td>UK</td><td>M</td><td>18534</td></tr><tr><td>2009</td><td>Benjamin</td><td>Australia</td><td>F</td><td>9359</td></tr><tr><td>2007</td><td>Alexander</td><td>Australia</td><td>M</td><td>12682</td></tr><tr><td>2008</td><td>Grace</td><td>Canada</td><td>M</td><td>8147</td></tr><tr><td>2009</td><td>Liam</td><td>UK</td><td>F</td><td>13615</td></tr><tr><td>2007</td><td>Emma</td><td>USA</td><td>M</td><td>15381</td></tr><tr><td>2009</td><td>Grace</td><td>UK</td><td>M</td><td>391</td></tr><tr><td>2008</td><td>Olivia</td><td>Canada</td><td>M</td><td>8791</td></tr><tr><td>2009</td><td>Mason</td><td>USA</td><td>M</td><td>1111</td></tr><tr><td>2007</td><td>Mia</td><td>Canada</td><td>F</td><td>1885</td></tr><tr><td>2009</td><td>Henry</td><td>UK</td><td>F</td><td>631</td></tr><tr><td>2008</td><td>Grace</td><td>Australia</td><td>F</td><td>6904</td></tr><tr><td>2008</td><td>Emma</td><td>New Zealand</td><td>M</td><td>12516</td></tr><tr><td>2009</td><td>Emma</td><td>New Zealand</td><td>M</td><td>14421</td></tr><tr><td>2008</td><td>Grace</td><td>UK</td><td>M</td><td>15097</td></tr><tr><td>2008</td><td>Ethan</td><td>UK</td><td>F</td><td>8609</td></tr><tr><td>2009</td><td>Benjamin</td><td>UK</td><td>F</td><td>5726</td></tr><tr><td>2008</td><td>Logan</td><td>USA</td><td>M</td><td>6129</td></tr><tr><td>2008</td><td>Henry</td><td>Canada</td><td>F</td><td>12176</td></tr><tr><td>2009</td><td>Lucas</td><td>Australia</td><td>F</td><td>19301</td></tr><tr><td>2008</td><td>Ava</td><td>New Zealand</td><td>M</td><td>5570</td></tr><tr><td>2009</td><td>Emma</td><td>UK</td><td>F</td><td>18915</td></tr><tr><td>2007</td><td>Lucas</td><td>USA</td><td>M</td><td>14972</td></tr><tr><td>2007</td><td>Lucas</td><td>New Zealand</td><td>F</td><td>15231</td></tr><tr><td>2008</td><td>Grace</td><td>New Zealand</td><td>F</td><td>10303</td></tr><tr><td>2008</td><td>Emma</td><td>Australia</td><td>M</td><td>18231</td></tr><tr><td>2008</td><td>Grace</td><td>Canada</td><td>M</td><td>7519</td></tr><tr><td>2009</td><td>Mia</td><td>UK</td><td>F</td><td>6068</td></tr><tr><td>2008</td><td>Mia</td><td>Canada</td><td>M</td><td>18198</td></tr><tr><td>2007</td><td>Mason</td><td>New Zealand</td><td>F</td><td>18246</td></tr><tr><td>2007</td><td>Emma</td><td>New Zealand</td><td>M</td><td>10322</td></tr><tr><td>2007</td><td>Mia</td><td>USA</td><td>M</td><td>19834</td></tr><tr><td>2009</td><td>Olivia</td><td>New Zealand</td><td>M</td><td>9995</td></tr><tr><td>2007</td><td>James</td><td>USA</td><td>M</td><td>4027</td></tr><tr><td>2007</td><td>Noah</td><td>UK</td><td>F</td><td>16210</td></tr><tr><td>2007</td><td>Liam</td><td>New Zealand</td><td>F</td><td>6273</td></tr><tr><td>2008</td><td>Olivia</td><td>Canada</td><td>F</td><td>10678</td></tr><tr><td>2009</td><td>Logan</td><td>UK</td><td>F</td><td>15031</td></tr><tr><td>2008</td><td>Logan</td><td>New Zealand</td><td>M</td><td>6196</td></tr><tr><td>2008</td><td>Mia</td><td>UK</td><td>M</td><td>14109</td></tr><tr><td>2009</td><td>Ella</td><td>Canada</td><td>M</td><td>9832</td></tr><tr><td>2008</td><td>Logan</td><td>USA</td><td>F</td><td>18811</td></tr><tr><td>2007</td><td>Alexander</td><td>Canada</td><td>M</td><td>11600</td></tr><tr><td>2007</td><td>Isabella</td><td>Canada</td><td>M</td><td>16594</td></tr><tr><td>2007</td><td>Mia</td><td>USA</td><td>M</td><td>14259</td></tr><tr><td>2007</td><td>Ella</td><td>New Zealand</td><td>F</td><td>3293</td></tr><tr><td>2009</td><td>Noah</td><td>Canada</td><td>F</td><td>16277</td></tr><tr><td>2008</td><td>Emma</td><td>UK</td><td>M</td><td>16301</td></tr><tr><td>2008</td><td>Mia</td><td>Australia</td><td>M</td><td>4411</td></tr><tr><td>2007</td><td>Zoey</td><td>Australia</td><td>M</td><td>4432</td></tr><tr><td>2007</td><td>Alexander</td><td>Australia</td><td>F</td><td>17037</td></tr><tr><td>2009</td><td>Olivia</td><td>Canada</td><td>M</td><td>18577</td></tr><tr><td>2007</td><td>Isabella</td><td>Australia</td><td>M</td><td>10536</td></tr><tr><td>2007</td><td>Alexander</td><td>USA</td><td>F</td><td>10177</td></tr><tr><td>2008</td><td>James</td><td>UK</td><td>F</td><td>10979</td></tr><tr><td>2007</td><td>Isabella</td><td>New Zealand</td><td>F</td><td>10855</td></tr><tr><td>2009</td><td>Zoey</td><td>UK</td><td>F</td><td>14782</td></tr><tr><td>2009</td><td>Isabella</td><td>UK</td><td>M</td><td>14657</td></tr><tr><td>2009</td><td>Noah</td><td>USA</td><td>M</td><td>2551</td></tr><tr><td>2007</td><td>Noah</td><td>Canada</td><td>F</td><td>5753</td></tr><tr><td>2007</td><td>Mia</td><td>Australia</td><td>F</td><td>4694</td></tr><tr><td>2007</td><td>Grace</td><td>Australia</td><td>M</td><td>16096</td></tr><tr><td>2007</td><td>Ella</td><td>UK</td><td>F</td><td>2467</td></tr><tr><td>2008</td><td>Ethan</td><td>New Zealand</td><td>M</td><td>15770</td></tr><tr><td>2009</td><td>Noah</td><td>New Zealand</td><td>M</td><td>17485</td></tr><tr><td>2007</td><td>Ava</td><td>New Zealand</td><td>F</td><td>17090</td></tr><tr><td>2007</td><td>Henry</td><td>Canada</td><td>M</td><td>3830</td></tr><tr><td>2009</td><td>Alexander</td><td>UK</td><td>M</td><td>5625</td></tr><tr><td>2009</td><td>Mia</td><td>New Zealand</td><td>M</td><td>1648</td></tr><tr><td>2009</td><td>Emma</td><td>New Zealand</td><td>M</td><td>19282</td></tr><tr><td>2008</td><td>James</td><td>Canada</td><td>F</td><td>19398</td></tr><tr><td>2008</td><td>Liam</td><td>USA</td><td>M</td><td>12614</td></tr><tr><td>2009</td><td>Grace</td><td>USA</td><td>M</td><td>2556</td></tr><tr><td>2009</td><td>Liam</td><td>UK</td><td>F</td><td>11502</td></tr><tr><td>2008</td><td>Ella</td><td>New Zealand</td><td>F</td><td>6905</td></tr><tr><td>2008</td><td>Sophia</td><td>USA</td><td>F</td><td>18011</td></tr><tr><td>2009</td><td>Mason</td><td>Australia</td><td>F</td><td>9780</td></tr></tbody></table></div>"
      ]
     },
     "metadata": {
      "application/vnd.databricks.v1+output": {
       "addedWidgets": {},
       "aggData": [],
       "aggError": "",
       "aggOverflow": false,
       "aggSchema": [],
       "aggSeriesLimitReached": false,
       "aggType": "",
       "arguments": {},
       "columnCustomDisplayInfos": {},
       "data": [
        [
         2007,
         "Isabella",
         "UK",
         "F",
         5440
        ],
        [
         2008,
         "Benjamin",
         "Canada",
         "M",
         19760
        ],
        [
         2009,
         "Logan",
         "Canada",
         "M",
         15445
        ],
        [
         2009,
         "Grace",
         "USA",
         "F",
         9383
        ],
        [
         2008,
         "Emma",
         "USA",
         "M",
         2334
        ],
        [
         2007,
         "Sophia",
         "USA",
         "F",
         11260
        ],
        [
         2008,
         "Henry",
         "Australia",
         "M",
         14382
        ],
        [
         2009,
         "Mia",
         "Australia",
         "F",
         8395
        ],
        [
         2007,
         "Lily",
         "Canada",
         "F",
         2916
        ],
        [
         2007,
         "Grace",
         "Canada",
         "M",
         13877
        ],
        [
         2009,
         "Lily",
         "USA",
         "F",
         12418
        ],
        [
         2007,
         "Alexander",
         "UK",
         "F",
         14359
        ],
        [
         2008,
         "Emma",
         "Canada",
         "F",
         2804
        ],
        [
         2008,
         "Sophia",
         "UK",
         "M",
         18111
        ],
        [
         2009,
         "Ethan",
         "Canada",
         "M",
         1768
        ],
        [
         2009,
         "Ethan",
         "UK",
         "M",
         7506
        ],
        [
         2007,
         "Lucas",
         "UK",
         "M",
         15791
        ],
        [
         2007,
         "Sophia",
         "USA",
         "M",
         8797
        ],
        [
         2008,
         "Ava",
         "Canada",
         "M",
         10185
        ],
        [
         2009,
         "Zoey",
         "USA",
         "F",
         1705
        ],
        [
         2009,
         "Logan",
         "USA",
         "M",
         4101
        ],
        [
         2009,
         "Sophia",
         "USA",
         "F",
         852
        ],
        [
         2008,
         "James",
         "Australia",
         "M",
         6792
        ],
        [
         2009,
         "Mason",
         "UK",
         "M",
         18534
        ],
        [
         2009,
         "Benjamin",
         "Australia",
         "F",
         9359
        ],
        [
         2007,
         "Alexander",
         "Australia",
         "M",
         12682
        ],
        [
         2008,
         "Grace",
         "Canada",
         "M",
         8147
        ],
        [
         2009,
         "Liam",
         "UK",
         "F",
         13615
        ],
        [
         2007,
         "Emma",
         "USA",
         "M",
         15381
        ],
        [
         2009,
         "Grace",
         "UK",
         "M",
         391
        ],
        [
         2008,
         "Olivia",
         "Canada",
         "M",
         8791
        ],
        [
         2009,
         "Mason",
         "USA",
         "M",
         1111
        ],
        [
         2007,
         "Mia",
         "Canada",
         "F",
         1885
        ],
        [
         2009,
         "Henry",
         "UK",
         "F",
         631
        ],
        [
         2008,
         "Grace",
         "Australia",
         "F",
         6904
        ],
        [
         2008,
         "Emma",
         "New Zealand",
         "M",
         12516
        ],
        [
         2009,
         "Emma",
         "New Zealand",
         "M",
         14421
        ],
        [
         2008,
         "Grace",
         "UK",
         "M",
         15097
        ],
        [
         2008,
         "Ethan",
         "UK",
         "F",
         8609
        ],
        [
         2009,
         "Benjamin",
         "UK",
         "F",
         5726
        ],
        [
         2008,
         "Logan",
         "USA",
         "M",
         6129
        ],
        [
         2008,
         "Henry",
         "Canada",
         "F",
         12176
        ],
        [
         2009,
         "Lucas",
         "Australia",
         "F",
         19301
        ],
        [
         2008,
         "Ava",
         "New Zealand",
         "M",
         5570
        ],
        [
         2009,
         "Emma",
         "UK",
         "F",
         18915
        ],
        [
         2007,
         "Lucas",
         "USA",
         "M",
         14972
        ],
        [
         2007,
         "Lucas",
         "New Zealand",
         "F",
         15231
        ],
        [
         2008,
         "Grace",
         "New Zealand",
         "F",
         10303
        ],
        [
         2008,
         "Emma",
         "Australia",
         "M",
         18231
        ],
        [
         2008,
         "Grace",
         "Canada",
         "M",
         7519
        ],
        [
         2009,
         "Mia",
         "UK",
         "F",
         6068
        ],
        [
         2008,
         "Mia",
         "Canada",
         "M",
         18198
        ],
        [
         2007,
         "Mason",
         "New Zealand",
         "F",
         18246
        ],
        [
         2007,
         "Emma",
         "New Zealand",
         "M",
         10322
        ],
        [
         2007,
         "Mia",
         "USA",
         "M",
         19834
        ],
        [
         2009,
         "Olivia",
         "New Zealand",
         "M",
         9995
        ],
        [
         2007,
         "James",
         "USA",
         "M",
         4027
        ],
        [
         2007,
         "Noah",
         "UK",
         "F",
         16210
        ],
        [
         2007,
         "Liam",
         "New Zealand",
         "F",
         6273
        ],
        [
         2008,
         "Olivia",
         "Canada",
         "F",
         10678
        ],
        [
         2009,
         "Logan",
         "UK",
         "F",
         15031
        ],
        [
         2008,
         "Logan",
         "New Zealand",
         "M",
         6196
        ],
        [
         2008,
         "Mia",
         "UK",
         "M",
         14109
        ],
        [
         2009,
         "Ella",
         "Canada",
         "M",
         9832
        ],
        [
         2008,
         "Logan",
         "USA",
         "F",
         18811
        ],
        [
         2007,
         "Alexander",
         "Canada",
         "M",
         11600
        ],
        [
         2007,
         "Isabella",
         "Canada",
         "M",
         16594
        ],
        [
         2007,
         "Mia",
         "USA",
         "M",
         14259
        ],
        [
         2007,
         "Ella",
         "New Zealand",
         "F",
         3293
        ],
        [
         2009,
         "Noah",
         "Canada",
         "F",
         16277
        ],
        [
         2008,
         "Emma",
         "UK",
         "M",
         16301
        ],
        [
         2008,
         "Mia",
         "Australia",
         "M",
         4411
        ],
        [
         2007,
         "Zoey",
         "Australia",
         "M",
         4432
        ],
        [
         2007,
         "Alexander",
         "Australia",
         "F",
         17037
        ],
        [
         2009,
         "Olivia",
         "Canada",
         "M",
         18577
        ],
        [
         2007,
         "Isabella",
         "Australia",
         "M",
         10536
        ],
        [
         2007,
         "Alexander",
         "USA",
         "F",
         10177
        ],
        [
         2008,
         "James",
         "UK",
         "F",
         10979
        ],
        [
         2007,
         "Isabella",
         "New Zealand",
         "F",
         10855
        ],
        [
         2009,
         "Zoey",
         "UK",
         "F",
         14782
        ],
        [
         2009,
         "Isabella",
         "UK",
         "M",
         14657
        ],
        [
         2009,
         "Noah",
         "USA",
         "M",
         2551
        ],
        [
         2007,
         "Noah",
         "Canada",
         "F",
         5753
        ],
        [
         2007,
         "Mia",
         "Australia",
         "F",
         4694
        ],
        [
         2007,
         "Grace",
         "Australia",
         "M",
         16096
        ],
        [
         2007,
         "Ella",
         "UK",
         "F",
         2467
        ],
        [
         2008,
         "Ethan",
         "New Zealand",
         "M",
         15770
        ],
        [
         2009,
         "Noah",
         "New Zealand",
         "M",
         17485
        ],
        [
         2007,
         "Ava",
         "New Zealand",
         "F",
         17090
        ],
        [
         2007,
         "Henry",
         "Canada",
         "M",
         3830
        ],
        [
         2009,
         "Alexander",
         "UK",
         "M",
         5625
        ],
        [
         2009,
         "Mia",
         "New Zealand",
         "M",
         1648
        ],
        [
         2009,
         "Emma",
         "New Zealand",
         "M",
         19282
        ],
        [
         2008,
         "James",
         "Canada",
         "F",
         19398
        ],
        [
         2008,
         "Liam",
         "USA",
         "M",
         12614
        ],
        [
         2009,
         "Grace",
         "USA",
         "M",
         2556
        ],
        [
         2009,
         "Liam",
         "UK",
         "F",
         11502
        ],
        [
         2008,
         "Ella",
         "New Zealand",
         "F",
         6905
        ],
        [
         2008,
         "Sophia",
         "USA",
         "F",
         18011
        ],
        [
         2009,
         "Mason",
         "Australia",
         "F",
         9780
        ]
       ],
       "datasetInfos": [],
       "dbfsResultPath": null,
       "isJsonSchema": true,
       "metadata": {},
       "overflow": false,
       "plotOptions": {
        "customPlotOptions": {},
        "displayType": "table",
        "pivotAggregation": null,
        "pivotColumns": null,
        "xColumns": null,
        "yColumns": null
       },
       "removedWidgets": [],
       "schema": [
        {
         "metadata": "{}",
         "name": "Year",
         "type": "\"integer\""
        },
        {
         "metadata": "{}",
         "name": "First Name",
         "type": "\"string\""
        },
        {
         "metadata": "{}",
         "name": "Country",
         "type": "\"string\""
        },
        {
         "metadata": "{}",
         "name": "Sex",
         "type": "\"string\""
        },
        {
         "metadata": "{}",
         "name": "Count",
         "type": "\"integer\""
        }
       ],
       "type": "table"
      }
     },
     "output_type": "display_data"
    }
   ],
   "source": [
    "#set the data lake file location:\n",
    "file_location = \"abfss://container-namhofo24@namhofo24.dfs.core.windows.net/\"\n",
    "\n",
    "#read in the data to dataframe df\n",
    "df = spark.read.format(\"csv\").option(\"header\",\"true\").option(\"inferSchema\",\"true\").option(\"delimeter\",\",\").load(file_location)\n",
    "\n",
    "display(df)"
   ]
  },
  {
   "cell_type": "markdown",
   "metadata": {
    "application/vnd.databricks.v1+cell": {
     "cellMetadata": {},
     "inputWidgets": {},
     "nuid": "999638f9-3d79-4b20-b8fa-9127d1714dd6",
     "showTitle": false,
     "tableResultSettingsMap": {},
     "title": ""
    }
   },
   "source": [
    "## Method 2: Creating Mount Point using ADLS Access Key"
   ]
  },
  {
   "cell_type": "code",
   "execution_count": 0,
   "metadata": {
    "application/vnd.databricks.v1+cell": {
     "cellMetadata": {
      "byteLimit": 2048000,
      "rowLimit": 10000
     },
     "inputWidgets": {},
     "nuid": "dd162096-6218-4663-9bad-3cd7a1947952",
     "showTitle": false,
     "tableResultSettingsMap": {},
     "title": ""
    }
   },
   "outputs": [
    {
     "output_type": "stream",
     "name": "stdout",
     "output_type": "stream",
     "text": [
      "Out[8]: True"
     ]
    }
   ],
   "source": [
    "dbutils.fs.mount(\n",
    "  source = \"wasbs://container-namhofo24@namhofo24.blob.core.windows.net\",\n",
    "  mount_point = \"/mnt/adls_test\",\n",
    "  extra_configs ={ \"fs.azure.account.key.namhofo24.blob.core.windows.net\":\"8uETQON3UR7AgmyD8oWMlGPQws/yi4mFOWE5UsngJnAwJBJGcUa69TK9/D8Tl9ZAKuRyDMVHAyp2+AStOoqzFQ==\"}\n",
    "\n",
    ")"
   ]
  },
  {
   "cell_type": "code",
   "execution_count": 0,
   "metadata": {
    "application/vnd.databricks.v1+cell": {
     "cellMetadata": {
      "byteLimit": 2048000,
      "rowLimit": 10000
     },
     "inputWidgets": {},
     "nuid": "013e2d0e-17e3-4645-805f-5981deb9c2b6",
     "showTitle": false,
     "tableResultSettingsMap": {},
     "title": ""
    }
   },
   "outputs": [
    {
     "output_type": "stream",
     "name": "stdout",
     "output_type": "stream",
     "text": [
      "Out[9]: [FileInfo(path='dbfs:/mnt/adls_test/Baby_Name_2007_2009.csv', name='Baby_Name_2007_2009.csv', size=2565, modificationTime=1732087210000)]"
     ]
    }
   ],
   "source": [
    "dbutils.fs.ls(\"/mnt/adls_test\")"
   ]
  },
  {
   "cell_type": "code",
   "execution_count": 0,
   "metadata": {
    "application/vnd.databricks.v1+cell": {
     "cellMetadata": {
      "byteLimit": 2048000,
      "rowLimit": 10000
     },
     "inputWidgets": {},
     "nuid": "4810a422-ed58-415a-9a16-ebe6ece76006",
     "showTitle": false,
     "tableResultSettingsMap": {},
     "title": ""
    }
   },
   "outputs": [
    {
     "output_type": "stream",
     "name": "stdout",
     "output_type": "stream",
     "text": [
      "Out[10]: [MountInfo(mountPoint='/databricks-datasets', source='databricks-datasets', encryptionType=''),\n MountInfo(mountPoint='/databricks/mlflow-tracking', source='databricks/mlflow-tracking', encryptionType='sse-s3'),\n MountInfo(mountPoint='/databricks-results', source='databricks-results', encryptionType='sse-s3'),\n MountInfo(mountPoint='/mnt/adls_test', source='wasbs://container-namhofo24@namhofo24.blob.core.windows.net', encryptionType=''),\n MountInfo(mountPoint='/databricks/mlflow-registry', source='databricks/mlflow-registry', encryptionType='sse-s3'),\n MountInfo(mountPoint='/', source='DatabricksRoot', encryptionType='sse-s3')]"
     ]
    }
   ],
   "source": [
    "dbutils.fs.mounts()"
   ]
  },
  {
   "cell_type": "code",
   "execution_count": 0,
   "metadata": {
    "application/vnd.databricks.v1+cell": {
     "cellMetadata": {
      "byteLimit": 2048000,
      "rowLimit": 10000
     },
     "inputWidgets": {},
     "nuid": "6d460326-2035-42af-9b5b-c2ac7d429496",
     "showTitle": false,
     "tableResultSettingsMap": {},
     "title": ""
    }
   },
   "outputs": [
    {
     "output_type": "stream",
     "name": "stdout",
     "output_type": "stream",
     "text": [
      "/mnt/adls_test has been unmounted.\nOut[11]: True"
     ]
    }
   ],
   "source": [
    "dbutils.fs.unmount(\"/mnt/adls_test\")"
   ]
  }
 ],
 "metadata": {
  "application/vnd.databricks.v1+notebook": {
   "dashboards": [],
   "environmentMetadata": null,
   "language": "python",
   "notebookMetadata": {
    "pythonIndentUnit": 2
   },
   "notebookName": "Azure Data Lake Storage Integration with Databricks",
   "widgets": {}
  }
 },
 "nbformat": 4,
 "nbformat_minor": 0
}
