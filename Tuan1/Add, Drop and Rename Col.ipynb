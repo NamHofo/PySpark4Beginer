{
 "cells": [
  {
   "cell_type": "code",
   "execution_count": 0,
   "metadata": {
    "application/vnd.databricks.v1+cell": {
     "cellMetadata": {
      "byteLimit": 2048000,
      "rowLimit": 10000
     },
     "inputWidgets": {},
     "nuid": "b19766cb-8530-40fb-903e-488ddb14ee4c",
     "showTitle": false,
     "tableResultSettingsMap": {},
     "title": ""
    }
   },
   "outputs": [
    {
     "output_type": "display_data",
     "data": {
      "text/html": [
       "<style scoped>\n",
       "  .table-result-container {\n",
       "    max-height: 300px;\n",
       "    overflow: auto;\n",
       "  }\n",
       "  table, th, td {\n",
       "    border: 1px solid black;\n",
       "    border-collapse: collapse;\n",
       "  }\n",
       "  th, td {\n",
       "    padding: 5px;\n",
       "  }\n",
       "  th {\n",
       "    text-align: left;\n",
       "  }\n",
       "</style><div class='table-result-container'><table class='table-result'><thead style='background-color: white'><tr><th>employee_id</th><th>first_name</th><th>last_name</th><th>doj</th><th>employee_dept_id</th><th>gender</th><th>salary</th></tr></thead><tbody><tr><td>10</td><td>Raj</td><td>Kumar</td><td>1999</td><td>100</td><td>M</td><td>2000</td></tr><tr><td>20</td><td>Rahul</td><td>Rajan</td><td>2002</td><td>200</td><td>F</td><td>8000</td></tr><tr><td>30</td><td>Raghav</td><td>Manish</td><td>2010</td><td>100</td><td>null</td><td>6000</td></tr><tr><td>40</td><td>Raja</td><td>Singh</td><td>2004</td><td>100</td><td>M</td><td>7000</td></tr><tr><td>50</td><td>Rama</td><td>Krish</td><td>2004</td><td>400</td><td>M</td><td>9000</td></tr><tr><td>60</td><td>Rasul</td><td>Kutty</td><td>2014</td><td>500</td><td>M</td><td>5000</td></tr><tr><td>70</td><td>Kumar</td><td>Chand</td><td>2004</td><td>600</td><td>M</td><td>5000</td></tr></tbody></table></div>"
      ]
     },
     "metadata": {
      "application/vnd.databricks.v1+output": {
       "addedWidgets": {},
       "aggData": [],
       "aggError": "",
       "aggOverflow": false,
       "aggSchema": [],
       "aggSeriesLimitReached": false,
       "aggType": "",
       "arguments": {},
       "columnCustomDisplayInfos": {},
       "data": [
        [
         10,
         "Raj",
         "Kumar",
         "1999",
         "100",
         "M",
         2000
        ],
        [
         20,
         "Rahul",
         "Rajan",
         "2002",
         "200",
         "F",
         8000
        ],
        [
         30,
         "Raghav",
         "Manish",
         "2010",
         "100",
         null,
         6000
        ],
        [
         40,
         "Raja",
         "Singh",
         "2004",
         "100",
         "M",
         7000
        ],
        [
         50,
         "Rama",
         "Krish",
         "2004",
         "400",
         "M",
         9000
        ],
        [
         60,
         "Rasul",
         "Kutty",
         "2014",
         "500",
         "M",
         5000
        ],
        [
         70,
         "Kumar",
         "Chand",
         "2004",
         "600",
         "M",
         5000
        ]
       ],
       "datasetInfos": [],
       "dbfsResultPath": null,
       "isJsonSchema": true,
       "metadata": {},
       "overflow": false,
       "plotOptions": {
        "customPlotOptions": {},
        "displayType": "table",
        "pivotAggregation": null,
        "pivotColumns": null,
        "xColumns": null,
        "yColumns": null
       },
       "removedWidgets": [],
       "schema": [
        {
         "metadata": "{}",
         "name": "employee_id",
         "type": "\"long\""
        },
        {
         "metadata": "{}",
         "name": "first_name",
         "type": "\"string\""
        },
        {
         "metadata": "{}",
         "name": "last_name",
         "type": "\"string\""
        },
        {
         "metadata": "{}",
         "name": "doj",
         "type": "\"string\""
        },
        {
         "metadata": "{}",
         "name": "employee_dept_id",
         "type": "\"string\""
        },
        {
         "metadata": "{}",
         "name": "gender",
         "type": "\"string\""
        },
        {
         "metadata": "{}",
         "name": "salary",
         "type": "\"long\""
        }
       ],
       "type": "table"
      }
     },
     "output_type": "display_data"
    }
   ],
   "source": [
    "employee_data = [\n",
    "    (10, \"Raj\", \"Kumar\", \"1999\", \"100\", \"M\", 2000),\n",
    "    (20, \"Rahul\", \"Rajan\", \"2002\", \"200\", \"F\", 8000),\n",
    "    (30, \"Raghav\", \"Manish\", \"2010\", \"100\", None, 6000),\n",
    "    (40, \"Raja\", \"Singh\", \"2004\", \"100\", \"M\", 7000),\n",
    "    (50, \"Rama\", \"Krish\", \"2004\", \"400\", \"M\", 9000),\n",
    "    (60, \"Rasul\", \"Kutty\", \"2014\", \"500\", \"M\", 5000),\n",
    "    (70, \"Kumar\", \"Chand\", \"2004\", \"600\", \"M\", 5000)\n",
    "]\n",
    "\n",
    "employee_schema = [\n",
    "    \"employee_id\", \"first_name\", \"last_name\", \"doj\",\n",
    "    \"employee_dept_id\", \"gender\", \"salary\"\n",
    "]\n",
    "\n",
    "empDF = spark.createDataFrame(data=employee_data, schema=employee_schema)\n",
    "display(empDF)\n"
   ]
  },
  {
   "cell_type": "markdown",
   "metadata": {
    "application/vnd.databricks.v1+cell": {
     "cellMetadata": {
      "byteLimit": 2048000,
      "rowLimit": 10000
     },
     "inputWidgets": {},
     "nuid": "ec6fb369-6db2-43d5-a90d-3ee6107bbb75",
     "showTitle": false,
     "tableResultSettingsMap": {},
     "title": ""
    }
   },
   "source": [
    "#Add new column using constant literal"
   ]
  },
  {
   "cell_type": "code",
   "execution_count": 0,
   "metadata": {
    "application/vnd.databricks.v1+cell": {
     "cellMetadata": {
      "byteLimit": 2048000,
      "rowLimit": 10000
     },
     "inputWidgets": {},
     "nuid": "ae30a127-ee5f-41c9-984e-855a5d1264d7",
     "showTitle": false,
     "tableResultSettingsMap": {},
     "title": ""
    }
   },
   "outputs": [
    {
     "output_type": "stream",
     "name": "stdout",
     "output_type": "stream",
     "text": [
      "+-----------+----------+---------+----+----------------+------+------+--------+\n|employee_id|first_name|last_name| doj|employee_dept_id|gender|salary|Location|\n+-----------+----------+---------+----+----------------+------+------+--------+\n|         10|       Raj|    Kumar|1999|             100|     M|  2000|  Mumbai|\n|         20|     Rahul|    Rajan|2002|             200|     F|  8000|  Mumbai|\n|         30|    Raghav|   Manish|2010|             100|  null|  6000|  Mumbai|\n|         40|      Raja|    Singh|2004|             100|     M|  7000|  Mumbai|\n|         50|      Rama|    Krish|2004|             400|     M|  9000|  Mumbai|\n|         60|     Rasul|    Kutty|2014|             500|     M|  5000|  Mumbai|\n|         70|     Kumar|    Chand|2004|             600|     M|  5000|  Mumbai|\n+-----------+----------+---------+----+----------------+------+------+--------+\n\n"
     ]
    }
   ],
   "source": [
    "from pyspark.sql.functions import lit #lit is constant literal\n",
    "emDF_AddCol = empDF.withColumn(\"Location\", lit(\"Mumbai\")).show()"
   ]
  },
  {
   "cell_type": "markdown",
   "metadata": {
    "application/vnd.databricks.v1+cell": {
     "cellMetadata": {
      "byteLimit": 2048000,
      "rowLimit": 10000
     },
     "inputWidgets": {},
     "nuid": "2a02e39f-0431-46b4-b388-6235dca1ce31",
     "showTitle": false,
     "tableResultSettingsMap": {},
     "title": ""
    }
   },
   "source": [
    "#Add new col by calculation"
   ]
  },
  {
   "cell_type": "code",
   "execution_count": 0,
   "metadata": {
    "application/vnd.databricks.v1+cell": {
     "cellMetadata": {
      "byteLimit": 2048000,
      "rowLimit": 10000
     },
     "inputWidgets": {},
     "nuid": "55472fb9-a153-4387-abf2-fd28ba6d881a",
     "showTitle": false,
     "tableResultSettingsMap": {},
     "title": ""
    }
   },
   "outputs": [
    {
     "output_type": "display_data",
     "data": {
      "text/html": [
       "<style scoped>\n",
       "  .table-result-container {\n",
       "    max-height: 300px;\n",
       "    overflow: auto;\n",
       "  }\n",
       "  table, th, td {\n",
       "    border: 1px solid black;\n",
       "    border-collapse: collapse;\n",
       "  }\n",
       "  th, td {\n",
       "    padding: 5px;\n",
       "  }\n",
       "  th {\n",
       "    text-align: left;\n",
       "  }\n",
       "</style><div class='table-result-container'><table class='table-result'><thead style='background-color: white'><tr><th>employee_id</th><th>first_name</th><th>last_name</th><th>doj</th><th>employee_dept_id</th><th>gender</th><th>salary</th><th>Bonus</th><th>Name</th></tr></thead><tbody><tr><td>10</td><td>Raj</td><td>Kumar</td><td>1999</td><td>100</td><td>M</td><td>2000</td><td>200.0</td><td>Raj Kumar</td></tr><tr><td>20</td><td>Rahul</td><td>Rajan</td><td>2002</td><td>200</td><td>F</td><td>8000</td><td>800.0</td><td>Rahul Rajan</td></tr><tr><td>30</td><td>Raghav</td><td>Manish</td><td>2010</td><td>100</td><td>null</td><td>6000</td><td>600.0</td><td>Raghav Manish</td></tr><tr><td>40</td><td>Raja</td><td>Singh</td><td>2004</td><td>100</td><td>M</td><td>7000</td><td>700.0</td><td>Raja Singh</td></tr><tr><td>50</td><td>Rama</td><td>Krish</td><td>2004</td><td>400</td><td>M</td><td>9000</td><td>900.0</td><td>Rama Krish</td></tr><tr><td>60</td><td>Rasul</td><td>Kutty</td><td>2014</td><td>500</td><td>M</td><td>5000</td><td>500.0</td><td>Rasul Kutty</td></tr><tr><td>70</td><td>Kumar</td><td>Chand</td><td>2004</td><td>600</td><td>M</td><td>5000</td><td>500.0</td><td>Kumar Chand</td></tr></tbody></table></div>"
      ]
     },
     "metadata": {
      "application/vnd.databricks.v1+output": {
       "addedWidgets": {},
       "aggData": [],
       "aggError": "",
       "aggOverflow": false,
       "aggSchema": [],
       "aggSeriesLimitReached": false,
       "aggType": "",
       "arguments": {},
       "columnCustomDisplayInfos": {},
       "data": [
        [
         10,
         "Raj",
         "Kumar",
         "1999",
         "100",
         "M",
         2000,
         200.0,
         "Raj Kumar"
        ],
        [
         20,
         "Rahul",
         "Rajan",
         "2002",
         "200",
         "F",
         8000,
         800.0,
         "Rahul Rajan"
        ],
        [
         30,
         "Raghav",
         "Manish",
         "2010",
         "100",
         null,
         6000,
         600.0,
         "Raghav Manish"
        ],
        [
         40,
         "Raja",
         "Singh",
         "2004",
         "100",
         "M",
         7000,
         700.0,
         "Raja Singh"
        ],
        [
         50,
         "Rama",
         "Krish",
         "2004",
         "400",
         "M",
         9000,
         900.0,
         "Rama Krish"
        ],
        [
         60,
         "Rasul",
         "Kutty",
         "2014",
         "500",
         "M",
         5000,
         500.0,
         "Rasul Kutty"
        ],
        [
         70,
         "Kumar",
         "Chand",
         "2004",
         "600",
         "M",
         5000,
         500.0,
         "Kumar Chand"
        ]
       ],
       "datasetInfos": [],
       "dbfsResultPath": null,
       "isJsonSchema": true,
       "metadata": {},
       "overflow": false,
       "plotOptions": {
        "customPlotOptions": {},
        "displayType": "table",
        "pivotAggregation": null,
        "pivotColumns": null,
        "xColumns": null,
        "yColumns": null
       },
       "removedWidgets": [],
       "schema": [
        {
         "metadata": "{}",
         "name": "employee_id",
         "type": "\"long\""
        },
        {
         "metadata": "{}",
         "name": "first_name",
         "type": "\"string\""
        },
        {
         "metadata": "{}",
         "name": "last_name",
         "type": "\"string\""
        },
        {
         "metadata": "{}",
         "name": "doj",
         "type": "\"string\""
        },
        {
         "metadata": "{}",
         "name": "employee_dept_id",
         "type": "\"string\""
        },
        {
         "metadata": "{}",
         "name": "gender",
         "type": "\"string\""
        },
        {
         "metadata": "{}",
         "name": "salary",
         "type": "\"long\""
        },
        {
         "metadata": "{}",
         "name": "Bonus",
         "type": "\"double\""
        },
        {
         "metadata": "{}",
         "name": "Name",
         "type": "\"string\""
        }
       ],
       "type": "table"
      }
     },
     "output_type": "display_data"
    }
   ],
   "source": [
    "from pyspark.sql.functions import concat\n",
    "empDF_AddCol = empDF.withColumn(\"Bonus\",empDF.salary *0.1).withColumn(\"Name\",concat(\"first_name\",lit(\" \"),\"last_name\"))\n",
    "display(empDF_AddCol)"
   ]
  }
 ],
 "metadata": {
  "application/vnd.databricks.v1+notebook": {
   "dashboards": [],
   "environmentMetadata": null,
   "language": "python",
   "notebookMetadata": {
    "pythonIndentUnit": 4
   },
   "notebookName": "Add, Drop and Rename Col",
   "widgets": {}
  }
 },
 "nbformat": 4,
 "nbformat_minor": 0
}
