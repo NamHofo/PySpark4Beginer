{
 "cells": [
  {
   "cell_type": "code",
   "execution_count": 0,
   "metadata": {
    "application/vnd.databricks.v1+cell": {
     "cellMetadata": {
      "byteLimit": 2048000,
      "rowLimit": 10000
     },
     "inputWidgets": {},
     "nuid": "d52cd23e-8686-4e0c-9a37-0a039689e4b4",
     "showTitle": false,
     "tableResultSettingsMap": {},
     "title": ""
    }
   },
   "outputs": [
    {
     "output_type": "display_data",
     "data": {
      "text/html": [
       "<style scoped>\n",
       "  .table-result-container {\n",
       "    max-height: 300px;\n",
       "    overflow: auto;\n",
       "  }\n",
       "  table, th, td {\n",
       "    border: 1px solid black;\n",
       "    border-collapse: collapse;\n",
       "  }\n",
       "  th, td {\n",
       "    padding: 5px;\n",
       "  }\n",
       "  th {\n",
       "    text-align: left;\n",
       "  }\n",
       "</style><div class='table-result-container'><table class='table-result'><thead style='background-color: white'><tr><th>employee_id</th><th>first_name</th><th>last_name</th><th>doj</th><th>employee_dept_id</th><th>gender</th><th>salary</th></tr></thead><tbody><tr><td>10</td><td>Raj</td><td>Kumar</td><td>1999</td><td>100</td><td>M</td><td>2000</td></tr><tr><td>20</td><td>Rahul</td><td>Rajan</td><td>2002</td><td>200</td><td>F</td><td>8000</td></tr><tr><td>30</td><td>Raghav</td><td>Manish</td><td>2010</td><td>100</td><td>null</td><td>6000</td></tr><tr><td>40</td><td>Raja</td><td>Singh</td><td>2004</td><td>100</td><td>M</td><td>7000</td></tr><tr><td>50</td><td>Rama</td><td>Krish</td><td>2004</td><td>400</td><td>M</td><td>9000</td></tr><tr><td>60</td><td>Rasul</td><td>Kutty</td><td>2014</td><td>500</td><td>M</td><td>5000</td></tr><tr><td>70</td><td>Kumar</td><td>Chand</td><td>2004</td><td>600</td><td>M</td><td>5000</td></tr></tbody></table></div>"
      ]
     },
     "metadata": {
      "application/vnd.databricks.v1+output": {
       "addedWidgets": {},
       "aggData": [],
       "aggError": "",
       "aggOverflow": false,
       "aggSchema": [],
       "aggSeriesLimitReached": false,
       "aggType": "",
       "arguments": {},
       "columnCustomDisplayInfos": {},
       "data": [
        [
         10,
         "Raj",
         "Kumar",
         "1999",
         "100",
         "M",
         2000
        ],
        [
         20,
         "Rahul",
         "Rajan",
         "2002",
         "200",
         "F",
         8000
        ],
        [
         30,
         "Raghav",
         "Manish",
         "2010",
         "100",
         null,
         6000
        ],
        [
         40,
         "Raja",
         "Singh",
         "2004",
         "100",
         "M",
         7000
        ],
        [
         50,
         "Rama",
         "Krish",
         "2004",
         "400",
         "M",
         9000
        ],
        [
         60,
         "Rasul",
         "Kutty",
         "2014",
         "500",
         "M",
         5000
        ],
        [
         70,
         "Kumar",
         "Chand",
         "2004",
         "600",
         "M",
         5000
        ]
       ],
       "datasetInfos": [],
       "dbfsResultPath": null,
       "isJsonSchema": true,
       "metadata": {},
       "overflow": false,
       "plotOptions": {
        "customPlotOptions": {},
        "displayType": "table",
        "pivotAggregation": null,
        "pivotColumns": null,
        "xColumns": null,
        "yColumns": null
       },
       "removedWidgets": [],
       "schema": [
        {
         "metadata": "{}",
         "name": "employee_id",
         "type": "\"long\""
        },
        {
         "metadata": "{}",
         "name": "first_name",
         "type": "\"string\""
        },
        {
         "metadata": "{}",
         "name": "last_name",
         "type": "\"string\""
        },
        {
         "metadata": "{}",
         "name": "doj",
         "type": "\"string\""
        },
        {
         "metadata": "{}",
         "name": "employee_dept_id",
         "type": "\"string\""
        },
        {
         "metadata": "{}",
         "name": "gender",
         "type": "\"string\""
        },
        {
         "metadata": "{}",
         "name": "salary",
         "type": "\"long\""
        }
       ],
       "type": "table"
      }
     },
     "output_type": "display_data"
    }
   ],
   "source": [
    "employee_data = [\n",
    "    (10, \"Raj\", \"Kumar\", \"1999\", \"100\", \"M\", 2000),\n",
    "    (20, \"Rahul\", \"Rajan\", \"2002\", \"200\", \"F\", 8000),\n",
    "    (30, \"Raghav\", \"Manish\", \"2010\", \"100\", None, 6000),\n",
    "    (40, \"Raja\", \"Singh\", \"2004\", \"100\", \"M\", 7000),\n",
    "    (50, \"Rama\", \"Krish\", \"2004\", \"400\", \"M\", 9000),\n",
    "    (60, \"Rasul\", \"Kutty\", \"2014\", \"500\", \"M\", 5000),\n",
    "    (70, \"Kumar\", \"Chand\", \"2004\", \"600\", \"M\", 5000)\n",
    "]\n",
    "\n",
    "employee_schema = [\n",
    "    \"employee_id\", \"first_name\", \"last_name\", \"doj\",\n",
    "    \"employee_dept_id\", \"gender\", \"salary\"\n",
    "]\n",
    "\n",
    "empDF = spark.createDataFrame(data=employee_data, schema=employee_schema)\n",
    "display(empDF)"
   ]
  },
  {
   "cell_type": "code",
   "execution_count": 0,
   "metadata": {
    "application/vnd.databricks.v1+cell": {
     "cellMetadata": {
      "byteLimit": 2048000,
      "rowLimit": 10000
     },
     "inputWidgets": {},
     "nuid": "e5c0642b-0c41-4f19-bef3-9af456b6a8c9",
     "showTitle": false,
     "tableResultSettingsMap": {},
     "title": ""
    }
   },
   "outputs": [],
   "source": [
    "department_data = [(\"HR\", 100),\n",
    "                   (\"Supply\",200),\n",
    "                   (\"Sale\", 300),\n",
    "                   (\"Stock\", 400)\n",
    "                   ]\n",
    "department_schema = [\"dept_name\", \"dept_id\"]\n",
    "departmentDF = spark.createDataFrame(department_data,schema=department_schema)"
   ]
  },
  {
   "cell_type": "code",
   "execution_count": 0,
   "metadata": {
    "application/vnd.databricks.v1+cell": {
     "cellMetadata": {
      "byteLimit": 2048000,
      "rowLimit": 10000
     },
     "inputWidgets": {},
     "nuid": "f6f62b47-d800-4f97-ab25-43dd80e918fe",
     "showTitle": false,
     "tableResultSettingsMap": {},
     "title": ""
    }
   },
   "outputs": [
    {
     "output_type": "display_data",
     "data": {
      "text/html": [
       "<style scoped>\n",
       "  .table-result-container {\n",
       "    max-height: 300px;\n",
       "    overflow: auto;\n",
       "  }\n",
       "  table, th, td {\n",
       "    border: 1px solid black;\n",
       "    border-collapse: collapse;\n",
       "  }\n",
       "  th, td {\n",
       "    padding: 5px;\n",
       "  }\n",
       "  th {\n",
       "    text-align: left;\n",
       "  }\n",
       "</style><div class='table-result-container'><table class='table-result'><thead style='background-color: white'><tr><th>dept_name</th><th>dept_id</th></tr></thead><tbody><tr><td>HR</td><td>100</td></tr><tr><td>Supply</td><td>200</td></tr><tr><td>Sale</td><td>300</td></tr><tr><td>Stock</td><td>400</td></tr></tbody></table></div>"
      ]
     },
     "metadata": {
      "application/vnd.databricks.v1+output": {
       "addedWidgets": {},
       "aggData": [],
       "aggError": "",
       "aggOverflow": false,
       "aggSchema": [],
       "aggSeriesLimitReached": false,
       "aggType": "",
       "arguments": {},
       "columnCustomDisplayInfos": {},
       "data": [
        [
         "HR",
         100
        ],
        [
         "Supply",
         200
        ],
        [
         "Sale",
         300
        ],
        [
         "Stock",
         400
        ]
       ],
       "datasetInfos": [],
       "dbfsResultPath": null,
       "isJsonSchema": true,
       "metadata": {},
       "overflow": false,
       "plotOptions": {
        "customPlotOptions": {},
        "displayType": "table",
        "pivotAggregation": null,
        "pivotColumns": null,
        "xColumns": null,
        "yColumns": null
       },
       "removedWidgets": [],
       "schema": [
        {
         "metadata": "{}",
         "name": "dept_name",
         "type": "\"string\""
        },
        {
         "metadata": "{}",
         "name": "dept_id",
         "type": "\"long\""
        }
       ],
       "type": "table"
      }
     },
     "output_type": "display_data"
    }
   ],
   "source": [
    "display(departmentDF)"
   ]
  },
  {
   "cell_type": "markdown",
   "metadata": {
    "application/vnd.databricks.v1+cell": {
     "cellMetadata": {},
     "inputWidgets": {},
     "nuid": "1ef02db7-ca24-457f-8968-cf4fb89039a1",
     "showTitle": false,
     "tableResultSettingsMap": {},
     "title": ""
    }
   },
   "source": [
    "# Inner join"
   ]
  },
  {
   "cell_type": "code",
   "execution_count": 0,
   "metadata": {
    "application/vnd.databricks.v1+cell": {
     "cellMetadata": {
      "byteLimit": 2048000,
      "rowLimit": 10000
     },
     "inputWidgets": {},
     "nuid": "4b89bdd3-50d6-4009-a29f-5b8d5f4c5a4b",
     "showTitle": false,
     "tableResultSettingsMap": {},
     "title": ""
    }
   },
   "outputs": [
    {
     "output_type": "display_data",
     "data": {
      "text/html": [
       "<style scoped>\n",
       "  .table-result-container {\n",
       "    max-height: 300px;\n",
       "    overflow: auto;\n",
       "  }\n",
       "  table, th, td {\n",
       "    border: 1px solid black;\n",
       "    border-collapse: collapse;\n",
       "  }\n",
       "  th, td {\n",
       "    padding: 5px;\n",
       "  }\n",
       "  th {\n",
       "    text-align: left;\n",
       "  }\n",
       "</style><div class='table-result-container'><table class='table-result'><thead style='background-color: white'><tr><th>employee_id</th><th>first_name</th><th>last_name</th><th>doj</th><th>employee_dept_id</th><th>gender</th><th>salary</th><th>dept_name</th><th>dept_id</th></tr></thead><tbody><tr><td>10</td><td>Raj</td><td>Kumar</td><td>1999</td><td>100</td><td>M</td><td>2000</td><td>HR</td><td>100</td></tr><tr><td>30</td><td>Raghav</td><td>Manish</td><td>2010</td><td>100</td><td>null</td><td>6000</td><td>HR</td><td>100</td></tr><tr><td>40</td><td>Raja</td><td>Singh</td><td>2004</td><td>100</td><td>M</td><td>7000</td><td>HR</td><td>100</td></tr><tr><td>20</td><td>Rahul</td><td>Rajan</td><td>2002</td><td>200</td><td>F</td><td>8000</td><td>Supply</td><td>200</td></tr><tr><td>50</td><td>Rama</td><td>Krish</td><td>2004</td><td>400</td><td>M</td><td>9000</td><td>Stock</td><td>400</td></tr></tbody></table></div>"
      ]
     },
     "metadata": {
      "application/vnd.databricks.v1+output": {
       "addedWidgets": {},
       "aggData": [],
       "aggError": "",
       "aggOverflow": false,
       "aggSchema": [],
       "aggSeriesLimitReached": false,
       "aggType": "",
       "arguments": {},
       "columnCustomDisplayInfos": {},
       "data": [
        [
         10,
         "Raj",
         "Kumar",
         "1999",
         "100",
         "M",
         2000,
         "HR",
         100
        ],
        [
         30,
         "Raghav",
         "Manish",
         "2010",
         "100",
         null,
         6000,
         "HR",
         100
        ],
        [
         40,
         "Raja",
         "Singh",
         "2004",
         "100",
         "M",
         7000,
         "HR",
         100
        ],
        [
         20,
         "Rahul",
         "Rajan",
         "2002",
         "200",
         "F",
         8000,
         "Supply",
         200
        ],
        [
         50,
         "Rama",
         "Krish",
         "2004",
         "400",
         "M",
         9000,
         "Stock",
         400
        ]
       ],
       "datasetInfos": [],
       "dbfsResultPath": null,
       "isJsonSchema": true,
       "metadata": {},
       "overflow": false,
       "plotOptions": {
        "customPlotOptions": {},
        "displayType": "table",
        "pivotAggregation": null,
        "pivotColumns": null,
        "xColumns": null,
        "yColumns": null
       },
       "removedWidgets": [],
       "schema": [
        {
         "metadata": "{}",
         "name": "employee_id",
         "type": "\"long\""
        },
        {
         "metadata": "{}",
         "name": "first_name",
         "type": "\"string\""
        },
        {
         "metadata": "{}",
         "name": "last_name",
         "type": "\"string\""
        },
        {
         "metadata": "{}",
         "name": "doj",
         "type": "\"string\""
        },
        {
         "metadata": "{}",
         "name": "employee_dept_id",
         "type": "\"string\""
        },
        {
         "metadata": "{}",
         "name": "gender",
         "type": "\"string\""
        },
        {
         "metadata": "{}",
         "name": "salary",
         "type": "\"long\""
        },
        {
         "metadata": "{}",
         "name": "dept_name",
         "type": "\"string\""
        },
        {
         "metadata": "{}",
         "name": "dept_id",
         "type": "\"long\""
        }
       ],
       "type": "table"
      }
     },
     "output_type": "display_data"
    }
   ],
   "source": [
    "df_join = empDF.join(departmentDF, empDF.employee_dept_id==departmentDF.dept_id, \"inner\")\n",
    "display(df_join)"
   ]
  },
  {
   "cell_type": "markdown",
   "metadata": {
    "application/vnd.databricks.v1+cell": {
     "cellMetadata": {},
     "inputWidgets": {},
     "nuid": "83dcd17f-f734-4d3c-9360-0c4b3c2f708a",
     "showTitle": false,
     "tableResultSettingsMap": {},
     "title": ""
    }
   },
   "source": [
    "#Full Outer Join\n"
   ]
  },
  {
   "cell_type": "code",
   "execution_count": 0,
   "metadata": {
    "application/vnd.databricks.v1+cell": {
     "cellMetadata": {
      "byteLimit": 2048000,
      "rowLimit": 10000
     },
     "inputWidgets": {},
     "nuid": "9a37b778-d227-4424-b657-5b2b2930f1c4",
     "showTitle": false,
     "tableResultSettingsMap": {},
     "title": ""
    }
   },
   "outputs": [
    {
     "output_type": "display_data",
     "data": {
      "text/html": [
       "<style scoped>\n",
       "  .table-result-container {\n",
       "    max-height: 300px;\n",
       "    overflow: auto;\n",
       "  }\n",
       "  table, th, td {\n",
       "    border: 1px solid black;\n",
       "    border-collapse: collapse;\n",
       "  }\n",
       "  th, td {\n",
       "    padding: 5px;\n",
       "  }\n",
       "  th {\n",
       "    text-align: left;\n",
       "  }\n",
       "</style><div class='table-result-container'><table class='table-result'><thead style='background-color: white'><tr><th>employee_id</th><th>first_name</th><th>last_name</th><th>doj</th><th>employee_dept_id</th><th>gender</th><th>salary</th><th>dept_name</th><th>dept_id</th></tr></thead><tbody><tr><td>10</td><td>Raj</td><td>Kumar</td><td>1999</td><td>100</td><td>M</td><td>2000</td><td>HR</td><td>100</td></tr><tr><td>30</td><td>Raghav</td><td>Manish</td><td>2010</td><td>100</td><td>null</td><td>6000</td><td>HR</td><td>100</td></tr><tr><td>40</td><td>Raja</td><td>Singh</td><td>2004</td><td>100</td><td>M</td><td>7000</td><td>HR</td><td>100</td></tr><tr><td>20</td><td>Rahul</td><td>Rajan</td><td>2002</td><td>200</td><td>F</td><td>8000</td><td>Supply</td><td>200</td></tr><tr><td>null</td><td>null</td><td>null</td><td>null</td><td>null</td><td>null</td><td>null</td><td>Sale</td><td>300</td></tr><tr><td>50</td><td>Rama</td><td>Krish</td><td>2004</td><td>400</td><td>M</td><td>9000</td><td>Stock</td><td>400</td></tr><tr><td>60</td><td>Rasul</td><td>Kutty</td><td>2014</td><td>500</td><td>M</td><td>5000</td><td>null</td><td>null</td></tr><tr><td>70</td><td>Kumar</td><td>Chand</td><td>2004</td><td>600</td><td>M</td><td>5000</td><td>null</td><td>null</td></tr></tbody></table></div>"
      ]
     },
     "metadata": {
      "application/vnd.databricks.v1+output": {
       "addedWidgets": {},
       "aggData": [],
       "aggError": "",
       "aggOverflow": false,
       "aggSchema": [],
       "aggSeriesLimitReached": false,
       "aggType": "",
       "arguments": {},
       "columnCustomDisplayInfos": {},
       "data": [
        [
         10,
         "Raj",
         "Kumar",
         "1999",
         "100",
         "M",
         2000,
         "HR",
         100
        ],
        [
         30,
         "Raghav",
         "Manish",
         "2010",
         "100",
         null,
         6000,
         "HR",
         100
        ],
        [
         40,
         "Raja",
         "Singh",
         "2004",
         "100",
         "M",
         7000,
         "HR",
         100
        ],
        [
         20,
         "Rahul",
         "Rajan",
         "2002",
         "200",
         "F",
         8000,
         "Supply",
         200
        ],
        [
         null,
         null,
         null,
         null,
         null,
         null,
         null,
         "Sale",
         300
        ],
        [
         50,
         "Rama",
         "Krish",
         "2004",
         "400",
         "M",
         9000,
         "Stock",
         400
        ],
        [
         60,
         "Rasul",
         "Kutty",
         "2014",
         "500",
         "M",
         5000,
         null,
         null
        ],
        [
         70,
         "Kumar",
         "Chand",
         "2004",
         "600",
         "M",
         5000,
         null,
         null
        ]
       ],
       "datasetInfos": [],
       "dbfsResultPath": null,
       "isJsonSchema": true,
       "metadata": {},
       "overflow": false,
       "plotOptions": {
        "customPlotOptions": {},
        "displayType": "table",
        "pivotAggregation": null,
        "pivotColumns": null,
        "xColumns": null,
        "yColumns": null
       },
       "removedWidgets": [],
       "schema": [
        {
         "metadata": "{}",
         "name": "employee_id",
         "type": "\"long\""
        },
        {
         "metadata": "{}",
         "name": "first_name",
         "type": "\"string\""
        },
        {
         "metadata": "{}",
         "name": "last_name",
         "type": "\"string\""
        },
        {
         "metadata": "{}",
         "name": "doj",
         "type": "\"string\""
        },
        {
         "metadata": "{}",
         "name": "employee_dept_id",
         "type": "\"string\""
        },
        {
         "metadata": "{}",
         "name": "gender",
         "type": "\"string\""
        },
        {
         "metadata": "{}",
         "name": "salary",
         "type": "\"long\""
        },
        {
         "metadata": "{}",
         "name": "dept_name",
         "type": "\"string\""
        },
        {
         "metadata": "{}",
         "name": "dept_id",
         "type": "\"long\""
        }
       ],
       "type": "table"
      }
     },
     "output_type": "display_data"
    }
   ],
   "source": [
    "df_join = empDF.join(departmentDF, empDF.employee_dept_id==departmentDF.dept_id, \"full_outer\")\n",
    "display(df_join)"
   ]
  },
  {
   "cell_type": "markdown",
   "metadata": {
    "application/vnd.databricks.v1+cell": {
     "cellMetadata": {},
     "inputWidgets": {},
     "nuid": "19473a53-f25d-45be-9198-c1fceac028f9",
     "showTitle": false,
     "tableResultSettingsMap": {},
     "title": ""
    }
   },
   "source": [
    "#Left outer"
   ]
  },
  {
   "cell_type": "code",
   "execution_count": 0,
   "metadata": {
    "application/vnd.databricks.v1+cell": {
     "cellMetadata": {
      "byteLimit": 2048000,
      "rowLimit": 10000
     },
     "inputWidgets": {},
     "nuid": "2e3f19f2-b87b-4acd-8d04-1117d2727ab6",
     "showTitle": false,
     "tableResultSettingsMap": {},
     "title": ""
    }
   },
   "outputs": [
    {
     "output_type": "display_data",
     "data": {
      "text/html": [
       "<style scoped>\n",
       "  .table-result-container {\n",
       "    max-height: 300px;\n",
       "    overflow: auto;\n",
       "  }\n",
       "  table, th, td {\n",
       "    border: 1px solid black;\n",
       "    border-collapse: collapse;\n",
       "  }\n",
       "  th, td {\n",
       "    padding: 5px;\n",
       "  }\n",
       "  th {\n",
       "    text-align: left;\n",
       "  }\n",
       "</style><div class='table-result-container'><table class='table-result'><thead style='background-color: white'><tr><th>employee_id</th><th>first_name</th><th>last_name</th><th>doj</th><th>employee_dept_id</th><th>gender</th><th>salary</th><th>dept_name</th><th>dept_id</th></tr></thead><tbody><tr><td>10</td><td>Raj</td><td>Kumar</td><td>1999</td><td>100</td><td>M</td><td>2000</td><td>HR</td><td>100</td></tr><tr><td>20</td><td>Rahul</td><td>Rajan</td><td>2002</td><td>200</td><td>F</td><td>8000</td><td>Supply</td><td>200</td></tr><tr><td>30</td><td>Raghav</td><td>Manish</td><td>2010</td><td>100</td><td>null</td><td>6000</td><td>HR</td><td>100</td></tr><tr><td>40</td><td>Raja</td><td>Singh</td><td>2004</td><td>100</td><td>M</td><td>7000</td><td>HR</td><td>100</td></tr><tr><td>50</td><td>Rama</td><td>Krish</td><td>2004</td><td>400</td><td>M</td><td>9000</td><td>Stock</td><td>400</td></tr><tr><td>60</td><td>Rasul</td><td>Kutty</td><td>2014</td><td>500</td><td>M</td><td>5000</td><td>null</td><td>null</td></tr><tr><td>70</td><td>Kumar</td><td>Chand</td><td>2004</td><td>600</td><td>M</td><td>5000</td><td>null</td><td>null</td></tr></tbody></table></div>"
      ]
     },
     "metadata": {
      "application/vnd.databricks.v1+output": {
       "addedWidgets": {},
       "aggData": [],
       "aggError": "",
       "aggOverflow": false,
       "aggSchema": [],
       "aggSeriesLimitReached": false,
       "aggType": "",
       "arguments": {},
       "columnCustomDisplayInfos": {},
       "data": [
        [
         10,
         "Raj",
         "Kumar",
         "1999",
         "100",
         "M",
         2000,
         "HR",
         100
        ],
        [
         20,
         "Rahul",
         "Rajan",
         "2002",
         "200",
         "F",
         8000,
         "Supply",
         200
        ],
        [
         30,
         "Raghav",
         "Manish",
         "2010",
         "100",
         null,
         6000,
         "HR",
         100
        ],
        [
         40,
         "Raja",
         "Singh",
         "2004",
         "100",
         "M",
         7000,
         "HR",
         100
        ],
        [
         50,
         "Rama",
         "Krish",
         "2004",
         "400",
         "M",
         9000,
         "Stock",
         400
        ],
        [
         60,
         "Rasul",
         "Kutty",
         "2014",
         "500",
         "M",
         5000,
         null,
         null
        ],
        [
         70,
         "Kumar",
         "Chand",
         "2004",
         "600",
         "M",
         5000,
         null,
         null
        ]
       ],
       "datasetInfos": [],
       "dbfsResultPath": null,
       "isJsonSchema": true,
       "metadata": {},
       "overflow": false,
       "plotOptions": {
        "customPlotOptions": {},
        "displayType": "table",
        "pivotAggregation": null,
        "pivotColumns": null,
        "xColumns": null,
        "yColumns": null
       },
       "removedWidgets": [],
       "schema": [
        {
         "metadata": "{}",
         "name": "employee_id",
         "type": "\"long\""
        },
        {
         "metadata": "{}",
         "name": "first_name",
         "type": "\"string\""
        },
        {
         "metadata": "{}",
         "name": "last_name",
         "type": "\"string\""
        },
        {
         "metadata": "{}",
         "name": "doj",
         "type": "\"string\""
        },
        {
         "metadata": "{}",
         "name": "employee_dept_id",
         "type": "\"string\""
        },
        {
         "metadata": "{}",
         "name": "gender",
         "type": "\"string\""
        },
        {
         "metadata": "{}",
         "name": "salary",
         "type": "\"long\""
        },
        {
         "metadata": "{}",
         "name": "dept_name",
         "type": "\"string\""
        },
        {
         "metadata": "{}",
         "name": "dept_id",
         "type": "\"long\""
        }
       ],
       "type": "table"
      }
     },
     "output_type": "display_data"
    }
   ],
   "source": [
    "df_join = empDF.join(departmentDF, empDF.employee_dept_id==departmentDF.dept_id, \"left_outer\")\n",
    "display(df_join)"
   ]
  },
  {
   "cell_type": "markdown",
   "metadata": {
    "application/vnd.databricks.v1+cell": {
     "cellMetadata": {},
     "inputWidgets": {},
     "nuid": "93d1f0ec-ca8e-4e7b-9840-1f6c58c20ce5",
     "showTitle": false,
     "tableResultSettingsMap": {},
     "title": ""
    }
   },
   "source": [
    "#Right outer"
   ]
  },
  {
   "cell_type": "code",
   "execution_count": 0,
   "metadata": {
    "application/vnd.databricks.v1+cell": {
     "cellMetadata": {
      "byteLimit": 2048000,
      "rowLimit": 10000
     },
     "inputWidgets": {},
     "nuid": "2d402f24-53fe-40de-a6bd-c10a2ddb8d25",
     "showTitle": false,
     "tableResultSettingsMap": {},
     "title": ""
    }
   },
   "outputs": [
    {
     "output_type": "display_data",
     "data": {
      "text/html": [
       "<style scoped>\n",
       "  .table-result-container {\n",
       "    max-height: 300px;\n",
       "    overflow: auto;\n",
       "  }\n",
       "  table, th, td {\n",
       "    border: 1px solid black;\n",
       "    border-collapse: collapse;\n",
       "  }\n",
       "  th, td {\n",
       "    padding: 5px;\n",
       "  }\n",
       "  th {\n",
       "    text-align: left;\n",
       "  }\n",
       "</style><div class='table-result-container'><table class='table-result'><thead style='background-color: white'><tr><th>employee_id</th><th>first_name</th><th>last_name</th><th>doj</th><th>employee_dept_id</th><th>gender</th><th>salary</th><th>dept_name</th><th>dept_id</th></tr></thead><tbody><tr><td>40</td><td>Raja</td><td>Singh</td><td>2004</td><td>100</td><td>M</td><td>7000</td><td>HR</td><td>100</td></tr><tr><td>30</td><td>Raghav</td><td>Manish</td><td>2010</td><td>100</td><td>null</td><td>6000</td><td>HR</td><td>100</td></tr><tr><td>10</td><td>Raj</td><td>Kumar</td><td>1999</td><td>100</td><td>M</td><td>2000</td><td>HR</td><td>100</td></tr><tr><td>20</td><td>Rahul</td><td>Rajan</td><td>2002</td><td>200</td><td>F</td><td>8000</td><td>Supply</td><td>200</td></tr><tr><td>null</td><td>null</td><td>null</td><td>null</td><td>null</td><td>null</td><td>null</td><td>Sale</td><td>300</td></tr><tr><td>50</td><td>Rama</td><td>Krish</td><td>2004</td><td>400</td><td>M</td><td>9000</td><td>Stock</td><td>400</td></tr></tbody></table></div>"
      ]
     },
     "metadata": {
      "application/vnd.databricks.v1+output": {
       "addedWidgets": {},
       "aggData": [],
       "aggError": "",
       "aggOverflow": false,
       "aggSchema": [],
       "aggSeriesLimitReached": false,
       "aggType": "",
       "arguments": {},
       "columnCustomDisplayInfos": {},
       "data": [
        [
         40,
         "Raja",
         "Singh",
         "2004",
         "100",
         "M",
         7000,
         "HR",
         100
        ],
        [
         30,
         "Raghav",
         "Manish",
         "2010",
         "100",
         null,
         6000,
         "HR",
         100
        ],
        [
         10,
         "Raj",
         "Kumar",
         "1999",
         "100",
         "M",
         2000,
         "HR",
         100
        ],
        [
         20,
         "Rahul",
         "Rajan",
         "2002",
         "200",
         "F",
         8000,
         "Supply",
         200
        ],
        [
         null,
         null,
         null,
         null,
         null,
         null,
         null,
         "Sale",
         300
        ],
        [
         50,
         "Rama",
         "Krish",
         "2004",
         "400",
         "M",
         9000,
         "Stock",
         400
        ]
       ],
       "datasetInfos": [],
       "dbfsResultPath": null,
       "isJsonSchema": true,
       "metadata": {},
       "overflow": false,
       "plotOptions": {
        "customPlotOptions": {},
        "displayType": "table",
        "pivotAggregation": null,
        "pivotColumns": null,
        "xColumns": null,
        "yColumns": null
       },
       "removedWidgets": [],
       "schema": [
        {
         "metadata": "{}",
         "name": "employee_id",
         "type": "\"long\""
        },
        {
         "metadata": "{}",
         "name": "first_name",
         "type": "\"string\""
        },
        {
         "metadata": "{}",
         "name": "last_name",
         "type": "\"string\""
        },
        {
         "metadata": "{}",
         "name": "doj",
         "type": "\"string\""
        },
        {
         "metadata": "{}",
         "name": "employee_dept_id",
         "type": "\"string\""
        },
        {
         "metadata": "{}",
         "name": "gender",
         "type": "\"string\""
        },
        {
         "metadata": "{}",
         "name": "salary",
         "type": "\"long\""
        },
        {
         "metadata": "{}",
         "name": "dept_name",
         "type": "\"string\""
        },
        {
         "metadata": "{}",
         "name": "dept_id",
         "type": "\"long\""
        }
       ],
       "type": "table"
      }
     },
     "output_type": "display_data"
    }
   ],
   "source": [
    "df_join = empDF.join(departmentDF, empDF.employee_dept_id==departmentDF.dept_id, \"right_outer\")\n",
    "display(df_join)"
   ]
  },
  {
   "cell_type": "markdown",
   "metadata": {
    "application/vnd.databricks.v1+cell": {
     "cellMetadata": {},
     "inputWidgets": {},
     "nuid": "e5f164ee-31d9-4d5d-b575-8d410e133ddf",
     "showTitle": false,
     "tableResultSettingsMap": {},
     "title": ""
    }
   },
   "source": [
    "#Left semi\n",
    "### Trả về tất cả các hàng từ bảng bên trái (tức là bảng chính trong truy vấn) mà có một hoặc nhiều hàng khớp với điều kiện join trong bảng bên phải."
   ]
  },
  {
   "cell_type": "code",
   "execution_count": 0,
   "metadata": {
    "application/vnd.databricks.v1+cell": {
     "cellMetadata": {
      "byteLimit": 2048000,
      "rowLimit": 10000
     },
     "inputWidgets": {},
     "nuid": "4ece19b1-9c96-425e-b149-22d0703fecf1",
     "showTitle": false,
     "tableResultSettingsMap": {},
     "title": ""
    }
   },
   "outputs": [
    {
     "output_type": "display_data",
     "data": {
      "text/html": [
       "<style scoped>\n",
       "  .table-result-container {\n",
       "    max-height: 300px;\n",
       "    overflow: auto;\n",
       "  }\n",
       "  table, th, td {\n",
       "    border: 1px solid black;\n",
       "    border-collapse: collapse;\n",
       "  }\n",
       "  th, td {\n",
       "    padding: 5px;\n",
       "  }\n",
       "  th {\n",
       "    text-align: left;\n",
       "  }\n",
       "</style><div class='table-result-container'><table class='table-result'><thead style='background-color: white'><tr><th>employee_id</th><th>first_name</th><th>last_name</th><th>doj</th><th>employee_dept_id</th><th>gender</th><th>salary</th></tr></thead><tbody><tr><td>10</td><td>Raj</td><td>Kumar</td><td>1999</td><td>100</td><td>M</td><td>2000</td></tr><tr><td>30</td><td>Raghav</td><td>Manish</td><td>2010</td><td>100</td><td>null</td><td>6000</td></tr><tr><td>40</td><td>Raja</td><td>Singh</td><td>2004</td><td>100</td><td>M</td><td>7000</td></tr><tr><td>20</td><td>Rahul</td><td>Rajan</td><td>2002</td><td>200</td><td>F</td><td>8000</td></tr><tr><td>50</td><td>Rama</td><td>Krish</td><td>2004</td><td>400</td><td>M</td><td>9000</td></tr></tbody></table></div>"
      ]
     },
     "metadata": {
      "application/vnd.databricks.v1+output": {
       "addedWidgets": {},
       "aggData": [],
       "aggError": "",
       "aggOverflow": false,
       "aggSchema": [],
       "aggSeriesLimitReached": false,
       "aggType": "",
       "arguments": {},
       "columnCustomDisplayInfos": {},
       "data": [
        [
         10,
         "Raj",
         "Kumar",
         "1999",
         "100",
         "M",
         2000
        ],
        [
         30,
         "Raghav",
         "Manish",
         "2010",
         "100",
         null,
         6000
        ],
        [
         40,
         "Raja",
         "Singh",
         "2004",
         "100",
         "M",
         7000
        ],
        [
         20,
         "Rahul",
         "Rajan",
         "2002",
         "200",
         "F",
         8000
        ],
        [
         50,
         "Rama",
         "Krish",
         "2004",
         "400",
         "M",
         9000
        ]
       ],
       "datasetInfos": [],
       "dbfsResultPath": null,
       "isJsonSchema": true,
       "metadata": {},
       "overflow": false,
       "plotOptions": {
        "customPlotOptions": {},
        "displayType": "table",
        "pivotAggregation": null,
        "pivotColumns": null,
        "xColumns": null,
        "yColumns": null
       },
       "removedWidgets": [],
       "schema": [
        {
         "metadata": "{}",
         "name": "employee_id",
         "type": "\"long\""
        },
        {
         "metadata": "{}",
         "name": "first_name",
         "type": "\"string\""
        },
        {
         "metadata": "{}",
         "name": "last_name",
         "type": "\"string\""
        },
        {
         "metadata": "{}",
         "name": "doj",
         "type": "\"string\""
        },
        {
         "metadata": "{}",
         "name": "employee_dept_id",
         "type": "\"string\""
        },
        {
         "metadata": "{}",
         "name": "gender",
         "type": "\"string\""
        },
        {
         "metadata": "{}",
         "name": "salary",
         "type": "\"long\""
        }
       ],
       "type": "table"
      }
     },
     "output_type": "display_data"
    }
   ],
   "source": [
    "df_join = empDF.join(departmentDF, empDF.employee_dept_id==departmentDF.dept_id, \"left_semi\")\n",
    "display(df_join)"
   ]
  },
  {
   "cell_type": "markdown",
   "metadata": {
    "application/vnd.databricks.v1+cell": {
     "cellMetadata": {},
     "inputWidgets": {},
     "nuid": "434d694e-d169-444b-a946-11a245816fa9",
     "showTitle": false,
     "tableResultSettingsMap": {},
     "title": ""
    }
   },
   "source": [
    "# Left anti\n",
    "### Trả về các hàng từ bảng bên trái mà không khớp với bất kỳ hàng nào trong bảng bên phải."
   ]
  },
  {
   "cell_type": "code",
   "execution_count": 0,
   "metadata": {
    "application/vnd.databricks.v1+cell": {
     "cellMetadata": {
      "byteLimit": 2048000,
      "rowLimit": 10000
     },
     "inputWidgets": {},
     "nuid": "0a8dfbba-dccd-4b24-ac47-672716544bf7",
     "showTitle": false,
     "tableResultSettingsMap": {},
     "title": ""
    }
   },
   "outputs": [
    {
     "output_type": "display_data",
     "data": {
      "text/html": [
       "<style scoped>\n",
       "  .table-result-container {\n",
       "    max-height: 300px;\n",
       "    overflow: auto;\n",
       "  }\n",
       "  table, th, td {\n",
       "    border: 1px solid black;\n",
       "    border-collapse: collapse;\n",
       "  }\n",
       "  th, td {\n",
       "    padding: 5px;\n",
       "  }\n",
       "  th {\n",
       "    text-align: left;\n",
       "  }\n",
       "</style><div class='table-result-container'><table class='table-result'><thead style='background-color: white'><tr><th>employee_id</th><th>first_name</th><th>last_name</th><th>doj</th><th>employee_dept_id</th><th>gender</th><th>salary</th></tr></thead><tbody><tr><td>60</td><td>Rasul</td><td>Kutty</td><td>2014</td><td>500</td><td>M</td><td>5000</td></tr><tr><td>70</td><td>Kumar</td><td>Chand</td><td>2004</td><td>600</td><td>M</td><td>5000</td></tr></tbody></table></div>"
      ]
     },
     "metadata": {
      "application/vnd.databricks.v1+output": {
       "addedWidgets": {},
       "aggData": [],
       "aggError": "",
       "aggOverflow": false,
       "aggSchema": [],
       "aggSeriesLimitReached": false,
       "aggType": "",
       "arguments": {},
       "columnCustomDisplayInfos": {},
       "data": [
        [
         60,
         "Rasul",
         "Kutty",
         "2014",
         "500",
         "M",
         5000
        ],
        [
         70,
         "Kumar",
         "Chand",
         "2004",
         "600",
         "M",
         5000
        ]
       ],
       "datasetInfos": [],
       "dbfsResultPath": null,
       "isJsonSchema": true,
       "metadata": {},
       "overflow": false,
       "plotOptions": {
        "customPlotOptions": {},
        "displayType": "table",
        "pivotAggregation": null,
        "pivotColumns": null,
        "xColumns": null,
        "yColumns": null
       },
       "removedWidgets": [],
       "schema": [
        {
         "metadata": "{}",
         "name": "employee_id",
         "type": "\"long\""
        },
        {
         "metadata": "{}",
         "name": "first_name",
         "type": "\"string\""
        },
        {
         "metadata": "{}",
         "name": "last_name",
         "type": "\"string\""
        },
        {
         "metadata": "{}",
         "name": "doj",
         "type": "\"string\""
        },
        {
         "metadata": "{}",
         "name": "employee_dept_id",
         "type": "\"string\""
        },
        {
         "metadata": "{}",
         "name": "gender",
         "type": "\"string\""
        },
        {
         "metadata": "{}",
         "name": "salary",
         "type": "\"long\""
        }
       ],
       "type": "table"
      }
     },
     "output_type": "display_data"
    }
   ],
   "source": [
    "df_join = empDF.join(departmentDF, empDF.employee_dept_id==departmentDF.dept_id, \"left_anti\")\n",
    "display(df_join)"
   ]
  }
 ],
 "metadata": {
  "application/vnd.databricks.v1+notebook": {
   "dashboards": [],
   "environmentMetadata": null,
   "language": "python",
   "notebookMetadata": {
    "pythonIndentUnit": 4
   },
   "notebookName": "Join",
   "widgets": {}
  }
 },
 "nbformat": 4,
 "nbformat_minor": 0
}
