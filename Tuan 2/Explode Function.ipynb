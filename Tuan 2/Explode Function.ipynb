{
 "cells": [
  {
   "cell_type": "markdown",
   "metadata": {
    "application/vnd.databricks.v1+cell": {
     "cellMetadata": {
      "byteLimit": 2048000,
      "rowLimit": 10000
     },
     "inputWidgets": {},
     "nuid": "ca68e83d-3aec-45ca-a0de-0cb0fbeff22f",
     "showTitle": false,
     "tableResultSettingsMap": {},
     "title": ""
    }
   },
   "source": [
    "## Create dataframe with array column"
   ]
  },
  {
   "cell_type": "code",
   "execution_count": 0,
   "metadata": {
    "application/vnd.databricks.v1+cell": {
     "cellMetadata": {
      "byteLimit": 2048000,
      "rowLimit": 10000
     },
     "inputWidgets": {},
     "nuid": "8de783ee-ab7f-4f0d-af8d-bf5f5e2efe40",
     "showTitle": false,
     "tableResultSettingsMap": {},
     "title": ""
    }
   },
   "outputs": [
    {
     "output_type": "stream",
     "name": "stdout",
     "output_type": "stream",
     "text": [
      "root\n |-- Name: string (nullable = true)\n |-- Appliances: array (nullable = true)\n |    |-- element: string (containsNull = true)\n\n"
     ]
    },
    {
     "output_type": "display_data",
     "data": {
      "text/html": [
       "<style scoped>\n",
       "  .table-result-container {\n",
       "    max-height: 300px;\n",
       "    overflow: auto;\n",
       "  }\n",
       "  table, th, td {\n",
       "    border: 1px solid black;\n",
       "    border-collapse: collapse;\n",
       "  }\n",
       "  th, td {\n",
       "    padding: 5px;\n",
       "  }\n",
       "  th {\n",
       "    text-align: left;\n",
       "  }\n",
       "</style><div class='table-result-container'><table class='table-result'><thead style='background-color: white'><tr><th>Name</th><th>Appliances</th></tr></thead><tbody><tr><td>Raja</td><td>List(TV, Refrigerator, Oven, AC)</td></tr><tr><td>Aditi</td><td>List(Washing Machine, Microwave, null)</td></tr><tr><td>Vikram</td><td>List(TV, Laptop)</td></tr><tr><td>Sita</td><td>List(Refrigerator, TV, Blender, Fan)</td></tr><tr><td>John</td><td>List(Oven, AC, null)</td></tr></tbody></table></div>"
      ]
     },
     "metadata": {
      "application/vnd.databricks.v1+output": {
       "addedWidgets": {},
       "aggData": [],
       "aggError": "",
       "aggOverflow": false,
       "aggSchema": [],
       "aggSeriesLimitReached": false,
       "aggType": "",
       "arguments": {},
       "columnCustomDisplayInfos": {},
       "data": [
        [
         "Raja",
         [
          "TV",
          "Refrigerator",
          "Oven",
          "AC"
         ]
        ],
        [
         "Aditi",
         [
          "Washing Machine",
          "Microwave",
          null
         ]
        ],
        [
         "Vikram",
         [
          "TV",
          "Laptop"
         ]
        ],
        [
         "Sita",
         [
          "Refrigerator",
          "TV",
          "Blender",
          "Fan"
         ]
        ],
        [
         "John",
         [
          "Oven",
          "AC",
          null
         ]
        ]
       ],
       "datasetInfos": [],
       "dbfsResultPath": null,
       "isJsonSchema": true,
       "metadata": {},
       "overflow": false,
       "plotOptions": {
        "customPlotOptions": {},
        "displayType": "table",
        "pivotAggregation": null,
        "pivotColumns": null,
        "xColumns": null,
        "yColumns": null
       },
       "removedWidgets": [],
       "schema": [
        {
         "metadata": "{}",
         "name": "Name",
         "type": "\"string\""
        },
        {
         "metadata": "{}",
         "name": "Appliances",
         "type": "{\"type\":\"array\",\"elementType\":\"string\",\"containsNull\":true}"
        }
       ],
       "type": "table"
      }
     },
     "output_type": "display_data"
    }
   ],
   "source": [
    "array = [\n",
    "    ('Raja', [\"TV\", \"Refrigerator\", \"Oven\", \"AC\"]),\n",
    "    ('Aditi', [\"Washing Machine\", \"Microwave\", None]),\n",
    "    ('Vikram', [\"TV\", \"Laptop\"]),\n",
    "    ('Sita', [\"Refrigerator\", \"TV\", \"Blender\", \"Fan\"]),\n",
    "    ('John', [\"Oven\", \"AC\", None]),\n",
    "    \n",
    "]\n",
    "\n",
    "df_app = spark.createDataFrame(data = array, schema = ['Name', 'Appliances'])\n",
    "df_app.printSchema()\n",
    "display(df_app)"
   ]
  },
  {
   "cell_type": "markdown",
   "metadata": {
    "application/vnd.databricks.v1+cell": {
     "cellMetadata": {
      "byteLimit": 2048000,
      "rowLimit": 10000
     },
     "inputWidgets": {},
     "nuid": "9964ebe4-54ea-4973-9853-1c41887b5bec",
     "showTitle": false,
     "tableResultSettingsMap": {},
     "title": ""
    }
   },
   "source": [
    "## Create dataframe with map column"
   ]
  },
  {
   "cell_type": "code",
   "execution_count": 0,
   "metadata": {
    "application/vnd.databricks.v1+cell": {
     "cellMetadata": {
      "byteLimit": 2048000,
      "rowLimit": 10000
     },
     "inputWidgets": {},
     "nuid": "b41492a0-3c5b-48ee-95e8-0fab71700ef7",
     "showTitle": false,
     "tableResultSettingsMap": {},
     "title": ""
    }
   },
   "outputs": [
    {
     "output_type": "stream",
     "name": "stdout",
     "output_type": "stream",
     "text": [
      "root\n |-- Name: string (nullable = true)\n |-- Brand: map (nullable = true)\n |    |-- key: string\n |    |-- value: string (valueContainsNull = true)\n\n"
     ]
    },
    {
     "output_type": "display_data",
     "data": {
      "text/html": [
       "<style scoped>\n",
       "  .table-result-container {\n",
       "    max-height: 300px;\n",
       "    overflow: auto;\n",
       "  }\n",
       "  table, th, td {\n",
       "    border: 1px solid black;\n",
       "    border-collapse: collapse;\n",
       "  }\n",
       "  th, td {\n",
       "    padding: 5px;\n",
       "  }\n",
       "  th {\n",
       "    text-align: left;\n",
       "  }\n",
       "</style><div class='table-result-container'><table class='table-result'><thead style='background-color: white'><tr><th>Name</th><th>Brand</th></tr></thead><tbody><tr><td>Raja</td><td>Map(Refrigerator -> LG, AC -> Dolphin, TV -> SamSung, Oven -> LG)</td></tr><tr><td>Aditi</td><td>Map(Microwave -> LG, Washing Machine -> Bosch)</td></tr><tr><td>Vikram</td><td>Map(Laptop -> Lenovo, TV -> Intel)</td></tr><tr><td>Sita</td><td>Map(Refrigerator -> Daikin, TV -> Sony)</td></tr><tr><td>John</td><td>null</td></tr></tbody></table></div>"
      ]
     },
     "metadata": {
      "application/vnd.databricks.v1+output": {
       "addedWidgets": {},
       "aggData": [],
       "aggError": "",
       "aggOverflow": false,
       "aggSchema": [],
       "aggSeriesLimitReached": false,
       "aggType": "",
       "arguments": {},
       "columnCustomDisplayInfos": {},
       "data": [
        [
         "Raja",
         {
          "AC": "Dolphin",
          "Oven": "LG",
          "Refrigerator": "LG",
          "TV": "SamSung"
         }
        ],
        [
         "Aditi",
         {
          "Microwave": "LG",
          "Washing Machine": "Bosch"
         }
        ],
        [
         "Vikram",
         {
          "Laptop": "Lenovo",
          "TV": "Intel"
         }
        ],
        [
         "Sita",
         {
          "Refrigerator": "Daikin",
          "TV": "Sony"
         }
        ],
        [
         "John",
         null
        ]
       ],
       "datasetInfos": [],
       "dbfsResultPath": null,
       "isJsonSchema": true,
       "metadata": {},
       "overflow": false,
       "plotOptions": {
        "customPlotOptions": {},
        "displayType": "table",
        "pivotAggregation": null,
        "pivotColumns": null,
        "xColumns": null,
        "yColumns": null
       },
       "removedWidgets": [],
       "schema": [
        {
         "metadata": "{}",
         "name": "Name",
         "type": "\"string\""
        },
        {
         "metadata": "{}",
         "name": "Brand",
         "type": "{\"type\":\"map\",\"keyType\":\"string\",\"valueType\":\"string\",\"valueContainsNull\":true}"
        }
       ],
       "type": "table"
      }
     },
     "output_type": "display_data"
    }
   ],
   "source": [
    "map_brand = [\n",
    "    ('Raja', {\"TV\":\"SamSung\", \"Refrigerator\":\"LG\", \"Oven\":\"LG\", \"AC\":\"Dolphin\"}),\n",
    "    ('Aditi', {\"Washing Machine\":\"Bosch\", \"Microwave\":\"LG\"}),\n",
    "    ('Vikram', {\"TV\":\"Intel\", \"Laptop\":\"Lenovo\"}),\n",
    "    ('Sita', {\"Refrigerator\":\"Daikin\", \"TV\":\"Sony\"}),\n",
    "    ('John',  None)\n",
    "]\n",
    "df_brand = spark.createDataFrame(data = map_brand, schema =['Name','Brand'])\n",
    "df_brand.printSchema()\n",
    "display(df_brand)"
   ]
  },
  {
   "cell_type": "markdown",
   "metadata": {
    "application/vnd.databricks.v1+cell": {
     "cellMetadata": {},
     "inputWidgets": {},
     "nuid": "aec278b6-5d3e-4eec-9c6f-19a6845f2b4a",
     "showTitle": false,
     "tableResultSettingsMap": {},
     "title": ""
    }
   },
   "source": [
    "### Explode with array"
   ]
  },
  {
   "cell_type": "code",
   "execution_count": 0,
   "metadata": {
    "application/vnd.databricks.v1+cell": {
     "cellMetadata": {
      "byteLimit": 2048000,
      "rowLimit": 10000
     },
     "inputWidgets": {},
     "nuid": "b3cd3a08-4859-432b-bafa-23cbfb0f83c8",
     "showTitle": false,
     "tableResultSettingsMap": {},
     "title": ""
    },
    "jupyter": {
     "outputs_hidden": true
    }
   },
   "outputs": [],
   "source": [
    "from pyspark.sql.functions import explode\n",
    "\n",
    "df2 = df_app.select(df_app.Name,explode(df_app.Appliances))\n",
    "\n"
   ]
  },
  {
   "cell_type": "code",
   "execution_count": 0,
   "metadata": {
    "application/vnd.databricks.v1+cell": {
     "cellMetadata": {
      "byteLimit": 2048000,
      "rowLimit": 10000
     },
     "inputWidgets": {},
     "nuid": "86f2ca5d-175a-4127-9acb-e18605eef1f7",
     "showTitle": false,
     "tableResultSettingsMap": {},
     "title": ""
    }
   },
   "outputs": [
    {
     "output_type": "display_data",
     "data": {
      "text/html": [
       "<style scoped>\n",
       "  .table-result-container {\n",
       "    max-height: 300px;\n",
       "    overflow: auto;\n",
       "  }\n",
       "  table, th, td {\n",
       "    border: 1px solid black;\n",
       "    border-collapse: collapse;\n",
       "  }\n",
       "  th, td {\n",
       "    padding: 5px;\n",
       "  }\n",
       "  th {\n",
       "    text-align: left;\n",
       "  }\n",
       "</style><div class='table-result-container'><table class='table-result'><thead style='background-color: white'><tr><th>Name</th><th>col</th></tr></thead><tbody><tr><td>Raja</td><td>TV</td></tr><tr><td>Raja</td><td>Refrigerator</td></tr><tr><td>Raja</td><td>Oven</td></tr><tr><td>Raja</td><td>AC</td></tr><tr><td>Aditi</td><td>Washing Machine</td></tr><tr><td>Aditi</td><td>Microwave</td></tr><tr><td>Aditi</td><td>null</td></tr><tr><td>Vikram</td><td>TV</td></tr><tr><td>Vikram</td><td>Laptop</td></tr><tr><td>Sita</td><td>Refrigerator</td></tr><tr><td>Sita</td><td>TV</td></tr><tr><td>Sita</td><td>Blender</td></tr><tr><td>Sita</td><td>Fan</td></tr><tr><td>John</td><td>Oven</td></tr><tr><td>John</td><td>AC</td></tr><tr><td>John</td><td>null</td></tr></tbody></table></div>"
      ]
     },
     "metadata": {
      "application/vnd.databricks.v1+output": {
       "addedWidgets": {},
       "aggData": [],
       "aggError": "",
       "aggOverflow": false,
       "aggSchema": [],
       "aggSeriesLimitReached": false,
       "aggType": "",
       "arguments": {},
       "columnCustomDisplayInfos": {},
       "data": [
        [
         "Raja",
         "TV"
        ],
        [
         "Raja",
         "Refrigerator"
        ],
        [
         "Raja",
         "Oven"
        ],
        [
         "Raja",
         "AC"
        ],
        [
         "Aditi",
         "Washing Machine"
        ],
        [
         "Aditi",
         "Microwave"
        ],
        [
         "Aditi",
         null
        ],
        [
         "Vikram",
         "TV"
        ],
        [
         "Vikram",
         "Laptop"
        ],
        [
         "Sita",
         "Refrigerator"
        ],
        [
         "Sita",
         "TV"
        ],
        [
         "Sita",
         "Blender"
        ],
        [
         "Sita",
         "Fan"
        ],
        [
         "John",
         "Oven"
        ],
        [
         "John",
         "AC"
        ],
        [
         "John",
         null
        ]
       ],
       "datasetInfos": [],
       "dbfsResultPath": null,
       "isJsonSchema": true,
       "metadata": {},
       "overflow": false,
       "plotOptions": {
        "customPlotOptions": {},
        "displayType": "table",
        "pivotAggregation": null,
        "pivotColumns": null,
        "xColumns": null,
        "yColumns": null
       },
       "removedWidgets": [],
       "schema": [
        {
         "metadata": "{}",
         "name": "Name",
         "type": "\"string\""
        },
        {
         "metadata": "{}",
         "name": "col",
         "type": "\"string\""
        }
       ],
       "type": "table"
      }
     },
     "output_type": "display_data"
    }
   ],
   "source": [
    "display(df2)"
   ]
  },
  {
   "cell_type": "markdown",
   "metadata": {
    "application/vnd.databricks.v1+cell": {
     "cellMetadata": {},
     "inputWidgets": {},
     "nuid": "30d7b335-985c-4cea-8c79-3dabd78ba4e3",
     "showTitle": false,
     "tableResultSettingsMap": {},
     "title": ""
    }
   },
   "source": [
    "Chức năng của explode là khi đang có 1 dataframe có dạng 1 cột là tên biến và 1 cột là array các giá trị của biến đó thì khi dùng explode nó sẽ chia ra thành 2 cột key value với key là tên biến và value là từng giá trị trong array."
   ]
  },
  {
   "cell_type": "markdown",
   "metadata": {
    "application/vnd.databricks.v1+cell": {
     "cellMetadata": {},
     "inputWidgets": {},
     "nuid": "14fadb32-0625-4b91-ab83-fa5f352115c3",
     "showTitle": false,
     "tableResultSettingsMap": {},
     "title": ""
    }
   },
   "source": [
    "### Explode with map"
   ]
  },
  {
   "cell_type": "code",
   "execution_count": 0,
   "metadata": {
    "application/vnd.databricks.v1+cell": {
     "cellMetadata": {
      "byteLimit": 2048000,
      "rowLimit": 10000
     },
     "inputWidgets": {},
     "nuid": "bef13a5a-5115-404e-b73b-dd38c1a5a3b2",
     "showTitle": false,
     "tableResultSettingsMap": {},
     "title": ""
    }
   },
   "outputs": [
    {
     "output_type": "stream",
     "name": "stdout",
     "output_type": "stream",
     "text": [
      "root\n |-- Name: string (nullable = true)\n |-- key: string (nullable = false)\n |-- value: string (nullable = true)\n\n"
     ]
    },
    {
     "output_type": "display_data",
     "data": {
      "text/html": [
       "<style scoped>\n",
       "  .table-result-container {\n",
       "    max-height: 300px;\n",
       "    overflow: auto;\n",
       "  }\n",
       "  table, th, td {\n",
       "    border: 1px solid black;\n",
       "    border-collapse: collapse;\n",
       "  }\n",
       "  th, td {\n",
       "    padding: 5px;\n",
       "  }\n",
       "  th {\n",
       "    text-align: left;\n",
       "  }\n",
       "</style><div class='table-result-container'><table class='table-result'><thead style='background-color: white'><tr><th>Name</th><th>key</th><th>value</th></tr></thead><tbody><tr><td>Raja</td><td>Refrigerator</td><td>LG</td></tr><tr><td>Raja</td><td>AC</td><td>Dolphin</td></tr><tr><td>Raja</td><td>TV</td><td>SamSung</td></tr><tr><td>Raja</td><td>Oven</td><td>LG</td></tr><tr><td>Aditi</td><td>Microwave</td><td>LG</td></tr><tr><td>Aditi</td><td>Washing Machine</td><td>Bosch</td></tr><tr><td>Vikram</td><td>Laptop</td><td>Lenovo</td></tr><tr><td>Vikram</td><td>TV</td><td>Intel</td></tr><tr><td>Sita</td><td>Refrigerator</td><td>Daikin</td></tr><tr><td>Sita</td><td>TV</td><td>Sony</td></tr></tbody></table></div>"
      ]
     },
     "metadata": {
      "application/vnd.databricks.v1+output": {
       "addedWidgets": {},
       "aggData": [],
       "aggError": "",
       "aggOverflow": false,
       "aggSchema": [],
       "aggSeriesLimitReached": false,
       "aggType": "",
       "arguments": {},
       "columnCustomDisplayInfos": {},
       "data": [
        [
         "Raja",
         "Refrigerator",
         "LG"
        ],
        [
         "Raja",
         "AC",
         "Dolphin"
        ],
        [
         "Raja",
         "TV",
         "SamSung"
        ],
        [
         "Raja",
         "Oven",
         "LG"
        ],
        [
         "Aditi",
         "Microwave",
         "LG"
        ],
        [
         "Aditi",
         "Washing Machine",
         "Bosch"
        ],
        [
         "Vikram",
         "Laptop",
         "Lenovo"
        ],
        [
         "Vikram",
         "TV",
         "Intel"
        ],
        [
         "Sita",
         "Refrigerator",
         "Daikin"
        ],
        [
         "Sita",
         "TV",
         "Sony"
        ]
       ],
       "datasetInfos": [],
       "dbfsResultPath": null,
       "isJsonSchema": true,
       "metadata": {},
       "overflow": false,
       "plotOptions": {
        "customPlotOptions": {},
        "displayType": "table",
        "pivotAggregation": null,
        "pivotColumns": null,
        "xColumns": null,
        "yColumns": null
       },
       "removedWidgets": [],
       "schema": [
        {
         "metadata": "{}",
         "name": "Name",
         "type": "\"string\""
        },
        {
         "metadata": "{}",
         "name": "key",
         "type": "\"string\""
        },
        {
         "metadata": "{}",
         "name": "value",
         "type": "\"string\""
        }
       ],
       "type": "table"
      }
     },
     "output_type": "display_data"
    }
   ],
   "source": [
    "df3 = df_brand.select(df_brand.Name,explode(df_brand.Brand))\n",
    "df3.printSchema()\n",
    "display(df3)"
   ]
  },
  {
   "cell_type": "markdown",
   "metadata": {
    "application/vnd.databricks.v1+cell": {
     "cellMetadata": {},
     "inputWidgets": {},
     "nuid": "22a31d67-ec76-4ec4-b199-1f2f45cc34fa",
     "showTitle": false,
     "tableResultSettingsMap": {},
     "title": ""
    }
   },
   "source": [
    "Khi dùng với map sẽ chia ra làm 3 cột đó là 1 cột tên ban đầu, cột key và cột value"
   ]
  },
  {
   "cell_type": "markdown",
   "metadata": {
    "application/vnd.databricks.v1+cell": {
     "cellMetadata": {},
     "inputWidgets": {},
     "nuid": "f7aacb03-484e-496f-8d6b-ea2f39630926",
     "showTitle": false,
     "tableResultSettingsMap": {},
     "title": ""
    }
   },
   "source": [
    "## Explode_outer to consider NULL values"
   ]
  },
  {
   "cell_type": "code",
   "execution_count": 0,
   "metadata": {
    "application/vnd.databricks.v1+cell": {
     "cellMetadata": {
      "byteLimit": 2048000,
      "rowLimit": 10000
     },
     "inputWidgets": {},
     "nuid": "f39a3a63-00c3-4c1d-866e-418dc6d3900a",
     "showTitle": false,
     "tableResultSettingsMap": {},
     "title": ""
    }
   },
   "outputs": [
    {
     "output_type": "display_data",
     "data": {
      "text/html": [
       "<style scoped>\n",
       "  .table-result-container {\n",
       "    max-height: 300px;\n",
       "    overflow: auto;\n",
       "  }\n",
       "  table, th, td {\n",
       "    border: 1px solid black;\n",
       "    border-collapse: collapse;\n",
       "  }\n",
       "  th, td {\n",
       "    padding: 5px;\n",
       "  }\n",
       "  th {\n",
       "    text-align: left;\n",
       "  }\n",
       "</style><div class='table-result-container'><table class='table-result'><thead style='background-color: white'><tr><th>Name</th><th>col</th></tr></thead><tbody><tr><td>Raja</td><td>TV</td></tr><tr><td>Raja</td><td>Refrigerator</td></tr><tr><td>Raja</td><td>Oven</td></tr><tr><td>Raja</td><td>AC</td></tr><tr><td>Aditi</td><td>Washing Machine</td></tr><tr><td>Aditi</td><td>Microwave</td></tr><tr><td>Aditi</td><td>null</td></tr><tr><td>Vikram</td><td>TV</td></tr><tr><td>Vikram</td><td>Laptop</td></tr><tr><td>Sita</td><td>Refrigerator</td></tr><tr><td>Sita</td><td>TV</td></tr><tr><td>Sita</td><td>Blender</td></tr><tr><td>Sita</td><td>Fan</td></tr><tr><td>John</td><td>Oven</td></tr><tr><td>John</td><td>AC</td></tr><tr><td>John</td><td>null</td></tr></tbody></table></div>"
      ]
     },
     "metadata": {
      "application/vnd.databricks.v1+output": {
       "addedWidgets": {},
       "aggData": [],
       "aggError": "",
       "aggOverflow": false,
       "aggSchema": [],
       "aggSeriesLimitReached": false,
       "aggType": "",
       "arguments": {},
       "columnCustomDisplayInfos": {},
       "data": [
        [
         "Raja",
         "TV"
        ],
        [
         "Raja",
         "Refrigerator"
        ],
        [
         "Raja",
         "Oven"
        ],
        [
         "Raja",
         "AC"
        ],
        [
         "Aditi",
         "Washing Machine"
        ],
        [
         "Aditi",
         "Microwave"
        ],
        [
         "Aditi",
         null
        ],
        [
         "Vikram",
         "TV"
        ],
        [
         "Vikram",
         "Laptop"
        ],
        [
         "Sita",
         "Refrigerator"
        ],
        [
         "Sita",
         "TV"
        ],
        [
         "Sita",
         "Blender"
        ],
        [
         "Sita",
         "Fan"
        ],
        [
         "John",
         "Oven"
        ],
        [
         "John",
         "AC"
        ],
        [
         "John",
         null
        ]
       ],
       "datasetInfos": [],
       "dbfsResultPath": null,
       "isJsonSchema": true,
       "metadata": {},
       "overflow": false,
       "plotOptions": {
        "customPlotOptions": {},
        "displayType": "table",
        "pivotAggregation": null,
        "pivotColumns": null,
        "xColumns": null,
        "yColumns": null
       },
       "removedWidgets": [],
       "schema": [
        {
         "metadata": "{}",
         "name": "Name",
         "type": "\"string\""
        },
        {
         "metadata": "{}",
         "name": "col",
         "type": "\"string\""
        }
       ],
       "type": "table"
      }
     },
     "output_type": "display_data"
    },
    {
     "output_type": "display_data",
     "data": {
      "text/html": [
       "<style scoped>\n",
       "  .table-result-container {\n",
       "    max-height: 300px;\n",
       "    overflow: auto;\n",
       "  }\n",
       "  table, th, td {\n",
       "    border: 1px solid black;\n",
       "    border-collapse: collapse;\n",
       "  }\n",
       "  th, td {\n",
       "    padding: 5px;\n",
       "  }\n",
       "  th {\n",
       "    text-align: left;\n",
       "  }\n",
       "</style><div class='table-result-container'><table class='table-result'><thead style='background-color: white'><tr><th>Name</th><th>key</th><th>value</th></tr></thead><tbody><tr><td>Raja</td><td>Refrigerator</td><td>LG</td></tr><tr><td>Raja</td><td>AC</td><td>Dolphin</td></tr><tr><td>Raja</td><td>TV</td><td>SamSung</td></tr><tr><td>Raja</td><td>Oven</td><td>LG</td></tr><tr><td>Aditi</td><td>Microwave</td><td>LG</td></tr><tr><td>Aditi</td><td>Washing Machine</td><td>Bosch</td></tr><tr><td>Vikram</td><td>Laptop</td><td>Lenovo</td></tr><tr><td>Vikram</td><td>TV</td><td>Intel</td></tr><tr><td>Sita</td><td>Refrigerator</td><td>Daikin</td></tr><tr><td>Sita</td><td>TV</td><td>Sony</td></tr><tr><td>John</td><td>null</td><td>null</td></tr></tbody></table></div>"
      ]
     },
     "metadata": {
      "application/vnd.databricks.v1+output": {
       "addedWidgets": {},
       "aggData": [],
       "aggError": "",
       "aggOverflow": false,
       "aggSchema": [],
       "aggSeriesLimitReached": false,
       "aggType": "",
       "arguments": {},
       "columnCustomDisplayInfos": {},
       "data": [
        [
         "Raja",
         "Refrigerator",
         "LG"
        ],
        [
         "Raja",
         "AC",
         "Dolphin"
        ],
        [
         "Raja",
         "TV",
         "SamSung"
        ],
        [
         "Raja",
         "Oven",
         "LG"
        ],
        [
         "Aditi",
         "Microwave",
         "LG"
        ],
        [
         "Aditi",
         "Washing Machine",
         "Bosch"
        ],
        [
         "Vikram",
         "Laptop",
         "Lenovo"
        ],
        [
         "Vikram",
         "TV",
         "Intel"
        ],
        [
         "Sita",
         "Refrigerator",
         "Daikin"
        ],
        [
         "Sita",
         "TV",
         "Sony"
        ],
        [
         "John",
         null,
         null
        ]
       ],
       "datasetInfos": [],
       "dbfsResultPath": null,
       "isJsonSchema": true,
       "metadata": {},
       "overflow": false,
       "plotOptions": {
        "customPlotOptions": {},
        "displayType": "table",
        "pivotAggregation": null,
        "pivotColumns": null,
        "xColumns": null,
        "yColumns": null
       },
       "removedWidgets": [],
       "schema": [
        {
         "metadata": "{}",
         "name": "Name",
         "type": "\"string\""
        },
        {
         "metadata": "{}",
         "name": "key",
         "type": "\"string\""
        },
        {
         "metadata": "{}",
         "name": "value",
         "type": "\"string\""
        }
       ],
       "type": "table"
      }
     },
     "output_type": "display_data"
    }
   ],
   "source": [
    "from pyspark.sql.functions import explode_outer\n",
    "\n",
    "display(df_app.select(df_app.Name,explode_outer(df_app.Appliances)))\n",
    "\n",
    "display(df_brand.select(df_brand.Name, explode_outer(df_brand.Brand)))"
   ]
  },
  {
   "cell_type": "markdown",
   "metadata": {
    "application/vnd.databricks.v1+cell": {
     "cellMetadata": {},
     "inputWidgets": {},
     "nuid": "7c78dbfd-cc5c-4756-ad08-45c1b2e43327",
     "showTitle": false,
     "tableResultSettingsMap": {},
     "title": ""
    }
   },
   "source": [
    "## Positional Explode"
   ]
  },
  {
   "cell_type": "code",
   "execution_count": 0,
   "metadata": {
    "application/vnd.databricks.v1+cell": {
     "cellMetadata": {
      "byteLimit": 2048000,
      "rowLimit": 10000
     },
     "inputWidgets": {},
     "nuid": "9c8ea391-bd2b-43e4-92b6-b2a308c721cf",
     "showTitle": false,
     "tableResultSettingsMap": {},
     "title": ""
    }
   },
   "outputs": [
    {
     "output_type": "display_data",
     "data": {
      "text/html": [
       "<style scoped>\n",
       "  .table-result-container {\n",
       "    max-height: 300px;\n",
       "    overflow: auto;\n",
       "  }\n",
       "  table, th, td {\n",
       "    border: 1px solid black;\n",
       "    border-collapse: collapse;\n",
       "  }\n",
       "  th, td {\n",
       "    padding: 5px;\n",
       "  }\n",
       "  th {\n",
       "    text-align: left;\n",
       "  }\n",
       "</style><div class='table-result-container'><table class='table-result'><thead style='background-color: white'><tr><th>Name</th><th>pos</th><th>col</th></tr></thead><tbody><tr><td>Raja</td><td>0</td><td>TV</td></tr><tr><td>Raja</td><td>1</td><td>Refrigerator</td></tr><tr><td>Raja</td><td>2</td><td>Oven</td></tr><tr><td>Raja</td><td>3</td><td>AC</td></tr><tr><td>Aditi</td><td>0</td><td>Washing Machine</td></tr><tr><td>Aditi</td><td>1</td><td>Microwave</td></tr><tr><td>Aditi</td><td>2</td><td>null</td></tr><tr><td>Vikram</td><td>0</td><td>TV</td></tr><tr><td>Vikram</td><td>1</td><td>Laptop</td></tr><tr><td>Sita</td><td>0</td><td>Refrigerator</td></tr><tr><td>Sita</td><td>1</td><td>TV</td></tr><tr><td>Sita</td><td>2</td><td>Blender</td></tr><tr><td>Sita</td><td>3</td><td>Fan</td></tr><tr><td>John</td><td>0</td><td>Oven</td></tr><tr><td>John</td><td>1</td><td>AC</td></tr><tr><td>John</td><td>2</td><td>null</td></tr></tbody></table></div>"
      ]
     },
     "metadata": {
      "application/vnd.databricks.v1+output": {
       "addedWidgets": {},
       "aggData": [],
       "aggError": "",
       "aggOverflow": false,
       "aggSchema": [],
       "aggSeriesLimitReached": false,
       "aggType": "",
       "arguments": {},
       "columnCustomDisplayInfos": {},
       "data": [
        [
         "Raja",
         0,
         "TV"
        ],
        [
         "Raja",
         1,
         "Refrigerator"
        ],
        [
         "Raja",
         2,
         "Oven"
        ],
        [
         "Raja",
         3,
         "AC"
        ],
        [
         "Aditi",
         0,
         "Washing Machine"
        ],
        [
         "Aditi",
         1,
         "Microwave"
        ],
        [
         "Aditi",
         2,
         null
        ],
        [
         "Vikram",
         0,
         "TV"
        ],
        [
         "Vikram",
         1,
         "Laptop"
        ],
        [
         "Sita",
         0,
         "Refrigerator"
        ],
        [
         "Sita",
         1,
         "TV"
        ],
        [
         "Sita",
         2,
         "Blender"
        ],
        [
         "Sita",
         3,
         "Fan"
        ],
        [
         "John",
         0,
         "Oven"
        ],
        [
         "John",
         1,
         "AC"
        ],
        [
         "John",
         2,
         null
        ]
       ],
       "datasetInfos": [],
       "dbfsResultPath": null,
       "isJsonSchema": true,
       "metadata": {},
       "overflow": false,
       "plotOptions": {
        "customPlotOptions": {},
        "displayType": "table",
        "pivotAggregation": null,
        "pivotColumns": null,
        "xColumns": null,
        "yColumns": null
       },
       "removedWidgets": [],
       "schema": [
        {
         "metadata": "{}",
         "name": "Name",
         "type": "\"string\""
        },
        {
         "metadata": "{}",
         "name": "pos",
         "type": "\"integer\""
        },
        {
         "metadata": "{}",
         "name": "col",
         "type": "\"string\""
        }
       ],
       "type": "table"
      }
     },
     "output_type": "display_data"
    },
    {
     "output_type": "display_data",
     "data": {
      "text/html": [
       "<style scoped>\n",
       "  .table-result-container {\n",
       "    max-height: 300px;\n",
       "    overflow: auto;\n",
       "  }\n",
       "  table, th, td {\n",
       "    border: 1px solid black;\n",
       "    border-collapse: collapse;\n",
       "  }\n",
       "  th, td {\n",
       "    padding: 5px;\n",
       "  }\n",
       "  th {\n",
       "    text-align: left;\n",
       "  }\n",
       "</style><div class='table-result-container'><table class='table-result'><thead style='background-color: white'><tr><th>Name</th><th>pos</th><th>key</th><th>value</th></tr></thead><tbody><tr><td>Raja</td><td>0</td><td>Refrigerator</td><td>LG</td></tr><tr><td>Raja</td><td>1</td><td>AC</td><td>Dolphin</td></tr><tr><td>Raja</td><td>2</td><td>TV</td><td>SamSung</td></tr><tr><td>Raja</td><td>3</td><td>Oven</td><td>LG</td></tr><tr><td>Aditi</td><td>0</td><td>Microwave</td><td>LG</td></tr><tr><td>Aditi</td><td>1</td><td>Washing Machine</td><td>Bosch</td></tr><tr><td>Vikram</td><td>0</td><td>Laptop</td><td>Lenovo</td></tr><tr><td>Vikram</td><td>1</td><td>TV</td><td>Intel</td></tr><tr><td>Sita</td><td>0</td><td>Refrigerator</td><td>Daikin</td></tr><tr><td>Sita</td><td>1</td><td>TV</td><td>Sony</td></tr></tbody></table></div>"
      ]
     },
     "metadata": {
      "application/vnd.databricks.v1+output": {
       "addedWidgets": {},
       "aggData": [],
       "aggError": "",
       "aggOverflow": false,
       "aggSchema": [],
       "aggSeriesLimitReached": false,
       "aggType": "",
       "arguments": {},
       "columnCustomDisplayInfos": {},
       "data": [
        [
         "Raja",
         0,
         "Refrigerator",
         "LG"
        ],
        [
         "Raja",
         1,
         "AC",
         "Dolphin"
        ],
        [
         "Raja",
         2,
         "TV",
         "SamSung"
        ],
        [
         "Raja",
         3,
         "Oven",
         "LG"
        ],
        [
         "Aditi",
         0,
         "Microwave",
         "LG"
        ],
        [
         "Aditi",
         1,
         "Washing Machine",
         "Bosch"
        ],
        [
         "Vikram",
         0,
         "Laptop",
         "Lenovo"
        ],
        [
         "Vikram",
         1,
         "TV",
         "Intel"
        ],
        [
         "Sita",
         0,
         "Refrigerator",
         "Daikin"
        ],
        [
         "Sita",
         1,
         "TV",
         "Sony"
        ]
       ],
       "datasetInfos": [],
       "dbfsResultPath": null,
       "isJsonSchema": true,
       "metadata": {},
       "overflow": false,
       "plotOptions": {
        "customPlotOptions": {},
        "displayType": "table",
        "pivotAggregation": null,
        "pivotColumns": null,
        "xColumns": null,
        "yColumns": null
       },
       "removedWidgets": [],
       "schema": [
        {
         "metadata": "{}",
         "name": "Name",
         "type": "\"string\""
        },
        {
         "metadata": "{}",
         "name": "pos",
         "type": "\"integer\""
        },
        {
         "metadata": "{}",
         "name": "key",
         "type": "\"string\""
        },
        {
         "metadata": "{}",
         "name": "value",
         "type": "\"string\""
        }
       ],
       "type": "table"
      }
     },
     "output_type": "display_data"
    }
   ],
   "source": [
    "from pyspark.sql.functions import posexplode\n",
    "\n",
    "display(df_app.select(df_app.Name,posexplode(df_app.Appliances)))\n",
    "\n",
    "display(df_brand.select(df_brand.Name,posexplode(df_brand.Brand)))"
   ]
  },
  {
   "cell_type": "markdown",
   "metadata": {
    "application/vnd.databricks.v1+cell": {
     "cellMetadata": {},
     "inputWidgets": {},
     "nuid": "fbc2c618-cfb6-41a7-8ad2-300b794a4585",
     "showTitle": false,
     "tableResultSettingsMap": {},
     "title": ""
    }
   },
   "source": [
    "Khi dùng posexplode sẽ có thêm 1 cột về vị trí các key value trong array ở dataFrame ban đầu"
   ]
  },
  {
   "cell_type": "code",
   "execution_count": 0,
   "metadata": {
    "application/vnd.databricks.v1+cell": {
     "cellMetadata": {
      "byteLimit": 2048000,
      "rowLimit": 10000
     },
     "inputWidgets": {},
     "nuid": "f4d36a15-b4f4-43d1-9dba-c5944912c2aa",
     "showTitle": false,
     "tableResultSettingsMap": {},
     "title": ""
    }
   },
   "outputs": [
    {
     "output_type": "display_data",
     "data": {
      "text/html": [
       "<style scoped>\n",
       "  .table-result-container {\n",
       "    max-height: 300px;\n",
       "    overflow: auto;\n",
       "  }\n",
       "  table, th, td {\n",
       "    border: 1px solid black;\n",
       "    border-collapse: collapse;\n",
       "  }\n",
       "  th, td {\n",
       "    padding: 5px;\n",
       "  }\n",
       "  th {\n",
       "    text-align: left;\n",
       "  }\n",
       "</style><div class='table-result-container'><table class='table-result'><thead style='background-color: white'><tr><th>Name</th><th>pos</th><th>col</th></tr></thead><tbody><tr><td>Raja</td><td>0</td><td>TV</td></tr><tr><td>Raja</td><td>1</td><td>Refrigerator</td></tr><tr><td>Raja</td><td>2</td><td>Oven</td></tr><tr><td>Raja</td><td>3</td><td>AC</td></tr><tr><td>Aditi</td><td>0</td><td>Washing Machine</td></tr><tr><td>Aditi</td><td>1</td><td>Microwave</td></tr><tr><td>Aditi</td><td>2</td><td>null</td></tr><tr><td>Vikram</td><td>0</td><td>TV</td></tr><tr><td>Vikram</td><td>1</td><td>Laptop</td></tr><tr><td>Sita</td><td>0</td><td>Refrigerator</td></tr><tr><td>Sita</td><td>1</td><td>TV</td></tr><tr><td>Sita</td><td>2</td><td>Blender</td></tr><tr><td>Sita</td><td>3</td><td>Fan</td></tr><tr><td>John</td><td>0</td><td>Oven</td></tr><tr><td>John</td><td>1</td><td>AC</td></tr><tr><td>John</td><td>2</td><td>null</td></tr></tbody></table></div>"
      ]
     },
     "metadata": {
      "application/vnd.databricks.v1+output": {
       "addedWidgets": {},
       "aggData": [],
       "aggError": "",
       "aggOverflow": false,
       "aggSchema": [],
       "aggSeriesLimitReached": false,
       "aggType": "",
       "arguments": {},
       "columnCustomDisplayInfos": {},
       "data": [
        [
         "Raja",
         0,
         "TV"
        ],
        [
         "Raja",
         1,
         "Refrigerator"
        ],
        [
         "Raja",
         2,
         "Oven"
        ],
        [
         "Raja",
         3,
         "AC"
        ],
        [
         "Aditi",
         0,
         "Washing Machine"
        ],
        [
         "Aditi",
         1,
         "Microwave"
        ],
        [
         "Aditi",
         2,
         null
        ],
        [
         "Vikram",
         0,
         "TV"
        ],
        [
         "Vikram",
         1,
         "Laptop"
        ],
        [
         "Sita",
         0,
         "Refrigerator"
        ],
        [
         "Sita",
         1,
         "TV"
        ],
        [
         "Sita",
         2,
         "Blender"
        ],
        [
         "Sita",
         3,
         "Fan"
        ],
        [
         "John",
         0,
         "Oven"
        ],
        [
         "John",
         1,
         "AC"
        ],
        [
         "John",
         2,
         null
        ]
       ],
       "datasetInfos": [],
       "dbfsResultPath": null,
       "isJsonSchema": true,
       "metadata": {},
       "overflow": false,
       "plotOptions": {
        "customPlotOptions": {},
        "displayType": "table",
        "pivotAggregation": null,
        "pivotColumns": null,
        "xColumns": null,
        "yColumns": null
       },
       "removedWidgets": [],
       "schema": [
        {
         "metadata": "{}",
         "name": "Name",
         "type": "\"string\""
        },
        {
         "metadata": "{}",
         "name": "pos",
         "type": "\"integer\""
        },
        {
         "metadata": "{}",
         "name": "col",
         "type": "\"string\""
        }
       ],
       "type": "table"
      }
     },
     "output_type": "display_data"
    },
    {
     "output_type": "display_data",
     "data": {
      "text/html": [
       "<style scoped>\n",
       "  .table-result-container {\n",
       "    max-height: 300px;\n",
       "    overflow: auto;\n",
       "  }\n",
       "  table, th, td {\n",
       "    border: 1px solid black;\n",
       "    border-collapse: collapse;\n",
       "  }\n",
       "  th, td {\n",
       "    padding: 5px;\n",
       "  }\n",
       "  th {\n",
       "    text-align: left;\n",
       "  }\n",
       "</style><div class='table-result-container'><table class='table-result'><thead style='background-color: white'><tr><th>Name</th><th>pos</th><th>key</th><th>value</th></tr></thead><tbody><tr><td>Raja</td><td>0</td><td>Refrigerator</td><td>LG</td></tr><tr><td>Raja</td><td>1</td><td>AC</td><td>Dolphin</td></tr><tr><td>Raja</td><td>2</td><td>TV</td><td>SamSung</td></tr><tr><td>Raja</td><td>3</td><td>Oven</td><td>LG</td></tr><tr><td>Aditi</td><td>0</td><td>Microwave</td><td>LG</td></tr><tr><td>Aditi</td><td>1</td><td>Washing Machine</td><td>Bosch</td></tr><tr><td>Vikram</td><td>0</td><td>Laptop</td><td>Lenovo</td></tr><tr><td>Vikram</td><td>1</td><td>TV</td><td>Intel</td></tr><tr><td>Sita</td><td>0</td><td>Refrigerator</td><td>Daikin</td></tr><tr><td>Sita</td><td>1</td><td>TV</td><td>Sony</td></tr><tr><td>John</td><td>null</td><td>null</td><td>null</td></tr></tbody></table></div>"
      ]
     },
     "metadata": {
      "application/vnd.databricks.v1+output": {
       "addedWidgets": {},
       "aggData": [],
       "aggError": "",
       "aggOverflow": false,
       "aggSchema": [],
       "aggSeriesLimitReached": false,
       "aggType": "",
       "arguments": {},
       "columnCustomDisplayInfos": {},
       "data": [
        [
         "Raja",
         0,
         "Refrigerator",
         "LG"
        ],
        [
         "Raja",
         1,
         "AC",
         "Dolphin"
        ],
        [
         "Raja",
         2,
         "TV",
         "SamSung"
        ],
        [
         "Raja",
         3,
         "Oven",
         "LG"
        ],
        [
         "Aditi",
         0,
         "Microwave",
         "LG"
        ],
        [
         "Aditi",
         1,
         "Washing Machine",
         "Bosch"
        ],
        [
         "Vikram",
         0,
         "Laptop",
         "Lenovo"
        ],
        [
         "Vikram",
         1,
         "TV",
         "Intel"
        ],
        [
         "Sita",
         0,
         "Refrigerator",
         "Daikin"
        ],
        [
         "Sita",
         1,
         "TV",
         "Sony"
        ],
        [
         "John",
         null,
         null,
         null
        ]
       ],
       "datasetInfos": [],
       "dbfsResultPath": null,
       "isJsonSchema": true,
       "metadata": {},
       "overflow": false,
       "plotOptions": {
        "customPlotOptions": {},
        "displayType": "table",
        "pivotAggregation": null,
        "pivotColumns": null,
        "xColumns": null,
        "yColumns": null
       },
       "removedWidgets": [],
       "schema": [
        {
         "metadata": "{}",
         "name": "Name",
         "type": "\"string\""
        },
        {
         "metadata": "{}",
         "name": "pos",
         "type": "\"integer\""
        },
        {
         "metadata": "{}",
         "name": "key",
         "type": "\"string\""
        },
        {
         "metadata": "{}",
         "name": "value",
         "type": "\"string\""
        }
       ],
       "type": "table"
      }
     },
     "output_type": "display_data"
    }
   ],
   "source": [
    "from pyspark.sql.functions import posexplode_outer\n",
    "\n",
    "display(df_app.select(df_app.Name,posexplode_outer(df_app.Appliances)))\n",
    "\n",
    "display(df_brand.select(df_brand.Name,posexplode_outer(df_brand.Brand)))"
   ]
  }
 ],
 "metadata": {
  "application/vnd.databricks.v1+notebook": {
   "dashboards": [],
   "environmentMetadata": null,
   "language": "python",
   "notebookMetadata": {
    "pythonIndentUnit": 2
   },
   "notebookName": "Explode Function",
   "widgets": {}
  }
 },
 "nbformat": 4,
 "nbformat_minor": 0
}
