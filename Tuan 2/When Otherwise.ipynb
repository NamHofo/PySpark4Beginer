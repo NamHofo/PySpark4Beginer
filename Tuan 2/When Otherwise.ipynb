{
 "cells": [
  {
   "cell_type": "code",
   "execution_count": 0,
   "metadata": {
    "application/vnd.databricks.v1+cell": {
     "cellMetadata": {
      "byteLimit": 2048000,
      "rowLimit": 10000
     },
     "inputWidgets": {},
     "nuid": "da98350b-b5ce-48ee-8a9c-8cdeaa29e0ff",
     "showTitle": false,
     "tableResultSettingsMap": {},
     "title": ""
    }
   },
   "outputs": [
    {
     "output_type": "display_data",
     "data": {
      "text/html": [
       "<style scoped>\n",
       "  .table-result-container {\n",
       "    max-height: 300px;\n",
       "    overflow: auto;\n",
       "  }\n",
       "  table, th, td {\n",
       "    border: 1px solid black;\n",
       "    border-collapse: collapse;\n",
       "  }\n",
       "  th, td {\n",
       "    padding: 5px;\n",
       "  }\n",
       "  th {\n",
       "    text-align: left;\n",
       "  }\n",
       "</style><div class='table-result-container'><table class='table-result'><thead style='background-color: white'><tr><th>name</th><th>Subject</th><th>Mark</th><th>Status</th><th>Attendance</th></tr></thead><tbody><tr><td>Raja</td><td>Science</td><td>80</td><td>P</td><td>90</td></tr><tr><td>Rakesh</td><td>Maths</td><td>90</td><td>P</td><td>70</td></tr><tr><td>Rama</td><td>English</td><td>20</td><td>F</td><td>80</td></tr><tr><td>Ramesh</td><td>Science</td><td>45</td><td>F</td><td>75</td></tr><tr><td>Rajesh</td><td>Maths</td><td>30</td><td>F</td><td>50</td></tr><tr><td>Raghav</td><td>Maths</td><td>null</td><td>NA</td><td>70</td></tr></tbody></table></div>"
      ]
     },
     "metadata": {
      "application/vnd.databricks.v1+output": {
       "addedWidgets": {},
       "aggData": [],
       "aggError": "",
       "aggOverflow": false,
       "aggSchema": [],
       "aggSeriesLimitReached": false,
       "aggType": "",
       "arguments": {},
       "columnCustomDisplayInfos": {},
       "data": [
        [
         "Raja",
         "Science",
         80,
         "P",
         90
        ],
        [
         "Rakesh",
         "Maths",
         90,
         "P",
         70
        ],
        [
         "Rama",
         "English",
         20,
         "F",
         80
        ],
        [
         "Ramesh",
         "Science",
         45,
         "F",
         75
        ],
        [
         "Rajesh",
         "Maths",
         30,
         "F",
         50
        ],
        [
         "Raghav",
         "Maths",
         null,
         "NA",
         70
        ]
       ],
       "datasetInfos": [],
       "dbfsResultPath": null,
       "isJsonSchema": true,
       "metadata": {},
       "overflow": false,
       "plotOptions": {
        "customPlotOptions": {},
        "displayType": "table",
        "pivotAggregation": null,
        "pivotColumns": null,
        "xColumns": null,
        "yColumns": null
       },
       "removedWidgets": [],
       "schema": [
        {
         "metadata": "{}",
         "name": "name",
         "type": "\"string\""
        },
        {
         "metadata": "{}",
         "name": "Subject",
         "type": "\"string\""
        },
        {
         "metadata": "{}",
         "name": "Mark",
         "type": "\"long\""
        },
        {
         "metadata": "{}",
         "name": "Status",
         "type": "\"string\""
        },
        {
         "metadata": "{}",
         "name": "Attendance",
         "type": "\"long\""
        }
       ],
       "type": "table"
      }
     },
     "output_type": "display_data"
    }
   ],
   "source": [
    "data_student = [\n",
    "    (\"Raja\", \"Science\", 80, \"P\", 90),\n",
    "    (\"Rakesh\", \"Maths\", 90, \"P\", 70),\n",
    "    (\"Rama\", \"English\", 20, \"F\", 80),\n",
    "    (\"Ramesh\", \"Science\", 45, \"F\", 75),\n",
    "    (\"Rajesh\", \"Maths\", 30, \"F\", 50),\n",
    "    (\"Raghav\", \"Maths\", None, \"NA\", 70)\n",
    "]\n",
    "\n",
    "Schema = [\"name\", \"Subject\", \"Mark\", \"Status\", \"Attendance\"]\n",
    "\n",
    "df= spark.createDataFrame(data = data_student, schema = Schema)\n",
    "\n",
    "display(df)"
   ]
  },
  {
   "cell_type": "markdown",
   "metadata": {
    "application/vnd.databricks.v1+cell": {
     "cellMetadata": {},
     "inputWidgets": {},
     "nuid": "9dafe804-d282-4123-b235-5478479ba047",
     "showTitle": false,
     "tableResultSettingsMap": {},
     "title": ""
    }
   },
   "source": [
    "## Update the existing column"
   ]
  },
  {
   "cell_type": "code",
   "execution_count": 0,
   "metadata": {
    "application/vnd.databricks.v1+cell": {
     "cellMetadata": {
      "byteLimit": 2048000,
      "rowLimit": 10000
     },
     "inputWidgets": {},
     "nuid": "d07c43a4-fe2c-4153-ae30-3b3c52e6630f",
     "showTitle": false,
     "tableResultSettingsMap": {},
     "title": ""
    }
   },
   "outputs": [
    {
     "output_type": "display_data",
     "data": {
      "text/html": [
       "<style scoped>\n",
       "  .table-result-container {\n",
       "    max-height: 300px;\n",
       "    overflow: auto;\n",
       "  }\n",
       "  table, th, td {\n",
       "    border: 1px solid black;\n",
       "    border-collapse: collapse;\n",
       "  }\n",
       "  th, td {\n",
       "    padding: 5px;\n",
       "  }\n",
       "  th {\n",
       "    text-align: left;\n",
       "  }\n",
       "</style><div class='table-result-container'><table class='table-result'><thead style='background-color: white'><tr><th>name</th><th>Subject</th><th>Mark</th><th>Status</th><th>Attendance</th></tr></thead><tbody><tr><td>Raja</td><td>Science</td><td>80</td><td>Pass</td><td>90</td></tr><tr><td>Rakesh</td><td>Maths</td><td>90</td><td>Pass</td><td>70</td></tr><tr><td>Rama</td><td>English</td><td>20</td><td>Fail</td><td>80</td></tr><tr><td>Ramesh</td><td>Science</td><td>45</td><td>Fail</td><td>75</td></tr><tr><td>Rajesh</td><td>Maths</td><td>30</td><td>Fail</td><td>50</td></tr><tr><td>Raghav</td><td>Maths</td><td>null</td><td>Absentee</td><td>70</td></tr></tbody></table></div>"
      ]
     },
     "metadata": {
      "application/vnd.databricks.v1+output": {
       "addedWidgets": {},
       "aggData": [],
       "aggError": "",
       "aggOverflow": false,
       "aggSchema": [],
       "aggSeriesLimitReached": false,
       "aggType": "",
       "arguments": {},
       "columnCustomDisplayInfos": {},
       "data": [
        [
         "Raja",
         "Science",
         80,
         "Pass",
         90
        ],
        [
         "Rakesh",
         "Maths",
         90,
         "Pass",
         70
        ],
        [
         "Rama",
         "English",
         20,
         "Fail",
         80
        ],
        [
         "Ramesh",
         "Science",
         45,
         "Fail",
         75
        ],
        [
         "Rajesh",
         "Maths",
         30,
         "Fail",
         50
        ],
        [
         "Raghav",
         "Maths",
         null,
         "Absentee",
         70
        ]
       ],
       "datasetInfos": [],
       "dbfsResultPath": null,
       "isJsonSchema": true,
       "metadata": {},
       "overflow": false,
       "plotOptions": {
        "customPlotOptions": {},
        "displayType": "table",
        "pivotAggregation": null,
        "pivotColumns": null,
        "xColumns": null,
        "yColumns": null
       },
       "removedWidgets": [],
       "schema": [
        {
         "metadata": "{}",
         "name": "name",
         "type": "\"string\""
        },
        {
         "metadata": "{}",
         "name": "Subject",
         "type": "\"string\""
        },
        {
         "metadata": "{}",
         "name": "Mark",
         "type": "\"long\""
        },
        {
         "metadata": "{}",
         "name": "Status",
         "type": "\"string\""
        },
        {
         "metadata": "{}",
         "name": "Attendance",
         "type": "\"long\""
        }
       ],
       "type": "table"
      }
     },
     "output_type": "display_data"
    }
   ],
   "source": [
    "from pyspark.sql.functions import when\n",
    "\n",
    "df1 = df.withColumn(\"Status\", when(df.Mark >= 50, \"Pass\")\n",
    "                    .when(df.Mark <50, \"Fail\")\n",
    "                    .otherwise(\"Absentee\"))\n",
    "display(df1)"
   ]
  },
  {
   "cell_type": "markdown",
   "metadata": {
    "application/vnd.databricks.v1+cell": {
     "cellMetadata": {},
     "inputWidgets": {},
     "nuid": "b9ba6df0-bd3e-4e07-ad7d-698ca88d5988",
     "showTitle": false,
     "tableResultSettingsMap": {},
     "title": ""
    }
   },
   "source": [
    "when().otherwise() có chức năng tương tự như switch case ở các ngôn ngữ lập trình khác."
   ]
  },
  {
   "cell_type": "markdown",
   "metadata": {
    "application/vnd.databricks.v1+cell": {
     "cellMetadata": {},
     "inputWidgets": {},
     "nuid": "5d5833cd-88cd-4ae0-ae5b-3be94b9ba0f5",
     "showTitle": false,
     "tableResultSettingsMap": {},
     "title": ""
    }
   },
   "source": [
    "## Create a new column"
   ]
  },
  {
   "cell_type": "code",
   "execution_count": 0,
   "metadata": {
    "application/vnd.databricks.v1+cell": {
     "cellMetadata": {
      "byteLimit": 2048000,
      "rowLimit": 10000
     },
     "inputWidgets": {},
     "nuid": "a9434e99-bd00-4197-9ba6-ca67499d10f0",
     "showTitle": false,
     "tableResultSettingsMap": {},
     "title": ""
    }
   },
   "outputs": [
    {
     "output_type": "display_data",
     "data": {
      "text/html": [
       "<style scoped>\n",
       "  .table-result-container {\n",
       "    max-height: 300px;\n",
       "    overflow: auto;\n",
       "  }\n",
       "  table, th, td {\n",
       "    border: 1px solid black;\n",
       "    border-collapse: collapse;\n",
       "  }\n",
       "  th, td {\n",
       "    padding: 5px;\n",
       "  }\n",
       "  th {\n",
       "    text-align: left;\n",
       "  }\n",
       "</style><div class='table-result-container'><table class='table-result'><thead style='background-color: white'><tr><th>name</th><th>Subject</th><th>Mark</th><th>Status</th><th>Attendance</th><th>New_status</th></tr></thead><tbody><tr><td>Raja</td><td>Science</td><td>80</td><td>P</td><td>90</td><td>Pass</td></tr><tr><td>Rakesh</td><td>Maths</td><td>90</td><td>P</td><td>70</td><td>Pass</td></tr><tr><td>Rama</td><td>English</td><td>20</td><td>F</td><td>80</td><td>Fail</td></tr><tr><td>Ramesh</td><td>Science</td><td>45</td><td>F</td><td>75</td><td>Fail</td></tr><tr><td>Rajesh</td><td>Maths</td><td>30</td><td>F</td><td>50</td><td>Fail</td></tr><tr><td>Raghav</td><td>Maths</td><td>null</td><td>NA</td><td>70</td><td>Absentee</td></tr></tbody></table></div>"
      ]
     },
     "metadata": {
      "application/vnd.databricks.v1+output": {
       "addedWidgets": {},
       "aggData": [],
       "aggError": "",
       "aggOverflow": false,
       "aggSchema": [],
       "aggSeriesLimitReached": false,
       "aggType": "",
       "arguments": {},
       "columnCustomDisplayInfos": {},
       "data": [
        [
         "Raja",
         "Science",
         80,
         "P",
         90,
         "Pass"
        ],
        [
         "Rakesh",
         "Maths",
         90,
         "P",
         70,
         "Pass"
        ],
        [
         "Rama",
         "English",
         20,
         "F",
         80,
         "Fail"
        ],
        [
         "Ramesh",
         "Science",
         45,
         "F",
         75,
         "Fail"
        ],
        [
         "Rajesh",
         "Maths",
         30,
         "F",
         50,
         "Fail"
        ],
        [
         "Raghav",
         "Maths",
         null,
         "NA",
         70,
         "Absentee"
        ]
       ],
       "datasetInfos": [],
       "dbfsResultPath": null,
       "isJsonSchema": true,
       "metadata": {},
       "overflow": false,
       "plotOptions": {
        "customPlotOptions": {},
        "displayType": "table",
        "pivotAggregation": null,
        "pivotColumns": null,
        "xColumns": null,
        "yColumns": null
       },
       "removedWidgets": [],
       "schema": [
        {
         "metadata": "{}",
         "name": "name",
         "type": "\"string\""
        },
        {
         "metadata": "{}",
         "name": "Subject",
         "type": "\"string\""
        },
        {
         "metadata": "{}",
         "name": "Mark",
         "type": "\"long\""
        },
        {
         "metadata": "{}",
         "name": "Status",
         "type": "\"string\""
        },
        {
         "metadata": "{}",
         "name": "Attendance",
         "type": "\"long\""
        },
        {
         "metadata": "{}",
         "name": "New_status",
         "type": "\"string\""
        }
       ],
       "type": "table"
      }
     },
     "output_type": "display_data"
    }
   ],
   "source": [
    "df2 = df.withColumn(\"New_status\", when(df.Mark >= 50, \"Pass\")\n",
    "                    .when(df.Mark <50, \"Fail\")\n",
    "                    .otherwise(\"Absentee\"))\n",
    "display(df2)"
   ]
  },
  {
   "cell_type": "markdown",
   "metadata": {
    "application/vnd.databricks.v1+cell": {
     "cellMetadata": {},
     "inputWidgets": {},
     "nuid": "a19795ca-d3ec-4b92-9ebe-48bc2ec0816e",
     "showTitle": false,
     "tableResultSettingsMap": {},
     "title": ""
    }
   },
   "source": [
    "## Multi-conditions using AND and OR Operators"
   ]
  },
  {
   "cell_type": "code",
   "execution_count": 0,
   "metadata": {
    "application/vnd.databricks.v1+cell": {
     "cellMetadata": {
      "byteLimit": 2048000,
      "rowLimit": 10000
     },
     "inputWidgets": {},
     "nuid": "573d44e5-fba0-4bd0-a8af-bb1ce484232f",
     "showTitle": false,
     "tableResultSettingsMap": {},
     "title": ""
    }
   },
   "outputs": [
    {
     "output_type": "display_data",
     "data": {
      "text/html": [
       "<style scoped>\n",
       "  .table-result-container {\n",
       "    max-height: 300px;\n",
       "    overflow: auto;\n",
       "  }\n",
       "  table, th, td {\n",
       "    border: 1px solid black;\n",
       "    border-collapse: collapse;\n",
       "  }\n",
       "  th, td {\n",
       "    padding: 5px;\n",
       "  }\n",
       "  th {\n",
       "    text-align: left;\n",
       "  }\n",
       "</style><div class='table-result-container'><table class='table-result'><thead style='background-color: white'><tr><th>name</th><th>Subject</th><th>Mark</th><th>Status</th><th>Attendance</th><th>Grade</th></tr></thead><tbody><tr><td>Raja</td><td>Science</td><td>80</td><td>P</td><td>90</td><td>Distinction</td></tr><tr><td>Rakesh</td><td>Maths</td><td>90</td><td>P</td><td>70</td><td>Good</td></tr><tr><td>Rama</td><td>English</td><td>20</td><td>F</td><td>80</td><td>Average</td></tr><tr><td>Ramesh</td><td>Science</td><td>45</td><td>F</td><td>75</td><td>Average</td></tr><tr><td>Rajesh</td><td>Maths</td><td>30</td><td>F</td><td>50</td><td>Average</td></tr><tr><td>Raghav</td><td>Maths</td><td>null</td><td>NA</td><td>70</td><td>Average</td></tr></tbody></table></div>"
      ]
     },
     "metadata": {
      "application/vnd.databricks.v1+output": {
       "addedWidgets": {},
       "aggData": [],
       "aggError": "",
       "aggOverflow": false,
       "aggSchema": [],
       "aggSeriesLimitReached": false,
       "aggType": "",
       "arguments": {},
       "columnCustomDisplayInfos": {},
       "data": [
        [
         "Raja",
         "Science",
         80,
         "P",
         90,
         "Distinction"
        ],
        [
         "Rakesh",
         "Maths",
         90,
         "P",
         70,
         "Good"
        ],
        [
         "Rama",
         "English",
         20,
         "F",
         80,
         "Average"
        ],
        [
         "Ramesh",
         "Science",
         45,
         "F",
         75,
         "Average"
        ],
        [
         "Rajesh",
         "Maths",
         30,
         "F",
         50,
         "Average"
        ],
        [
         "Raghav",
         "Maths",
         null,
         "NA",
         70,
         "Average"
        ]
       ],
       "datasetInfos": [],
       "dbfsResultPath": null,
       "isJsonSchema": true,
       "metadata": {},
       "overflow": false,
       "plotOptions": {
        "customPlotOptions": {},
        "displayType": "table",
        "pivotAggregation": null,
        "pivotColumns": null,
        "xColumns": null,
        "yColumns": null
       },
       "removedWidgets": [],
       "schema": [
        {
         "metadata": "{}",
         "name": "name",
         "type": "\"string\""
        },
        {
         "metadata": "{}",
         "name": "Subject",
         "type": "\"string\""
        },
        {
         "metadata": "{}",
         "name": "Mark",
         "type": "\"long\""
        },
        {
         "metadata": "{}",
         "name": "Status",
         "type": "\"string\""
        },
        {
         "metadata": "{}",
         "name": "Attendance",
         "type": "\"long\""
        },
        {
         "metadata": "{}",
         "name": "Grade",
         "type": "\"string\""
        }
       ],
       "type": "table"
      }
     },
     "output_type": "display_data"
    }
   ],
   "source": [
    "df4 = df.withColumn(\"Grade\", when( (df.Mark >= 80) & (df.Attendance >= 80), \"Distinction\") .when( (df.Mark >= 50) & (df.Attendance >50),\"Good\")\n",
    "                    .otherwise(\"Average\"))\n",
    "display(df4)"
   ]
  }
 ],
 "metadata": {
  "application/vnd.databricks.v1+notebook": {
   "dashboards": [],
   "environmentMetadata": null,
   "language": "python",
   "notebookMetadata": {
    "pythonIndentUnit": 2
   },
   "notebookName": "When Otherwise",
   "widgets": {}
  }
 },
 "nbformat": 4,
 "nbformat_minor": 0
}
