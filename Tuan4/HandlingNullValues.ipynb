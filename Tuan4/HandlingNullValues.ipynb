{
 "cells": [
  {
   "cell_type": "code",
   "execution_count": 1,
   "metadata": {},
   "outputs": [],
   "source": [
    "from pyspark.sql import SparkSession\n",
    "\n",
    "spark = SparkSession.builder.appName(\"HandleNull\").getOrCreate()"
   ]
  },
  {
   "cell_type": "code",
   "execution_count": 4,
   "metadata": {},
   "outputs": [
    {
     "name": "stdout",
     "output_type": "stream",
     "text": [
      "+-------+-----------+----+------+----------+\n",
      "|   Name|    Subject|Mark|Status|Attendance|\n",
      "+-------+-----------+----+------+----------+\n",
      "|Michael|    Science|  80|     P|        90|\n",
      "|  Nancy|Mathematics|  90|     P|      NULL|\n",
      "|  David|    English|  20|     F|        80|\n",
      "|   John|    Science|NULL|     F|      NULL|\n",
      "| Blessy|       NULL|  30|     F|        50|\n",
      "| Martin|Mathematics|NULL|  NULL|        70|\n",
      "+-------+-----------+----+------+----------+\n",
      "\n"
     ]
    }
   ],
   "source": [
    "data_student = [\n",
    "    (\"Michael\", \"Science\", 80, \"P\", 90),\n",
    "    (\"Nancy\", \"Mathematics\", 90, \"P\", None),\n",
    "    (\"David\", \"English\", 20, \"F\", 80),\n",
    "    (\"John\", \"Science\", None, \"F\", None),\n",
    "    (\"Blessy\", None, 30, \"F\", 50),\n",
    "    (\"Martin\", \"Mathematics\", None, None, 70)\n",
    "]\n",
    "\n",
    "schema = [\"Name\", \"Subject\", \"Mark\",  \"Status\", \"Attendance\"]\n",
    "\n",
    "df = spark.createDataFrame(data = data_student, schema = schema)\n",
    "\n",
    "df.show()"
   ]
  },
  {
   "cell_type": "markdown",
   "metadata": {},
   "source": [
    "## Filter all records with NULL values"
   ]
  },
  {
   "cell_type": "code",
   "execution_count": 6,
   "metadata": {},
   "outputs": [
    {
     "name": "stdout",
     "output_type": "stream",
     "text": [
      "+------+-----------+----+------+----------+\n",
      "|  Name|    Subject|Mark|Status|Attendance|\n",
      "+------+-----------+----+------+----------+\n",
      "|  John|    Science|NULL|     F|      NULL|\n",
      "|Martin|Mathematics|NULL|  NULL|        70|\n",
      "+------+-----------+----+------+----------+\n",
      "\n"
     ]
    }
   ],
   "source": [
    "df.filter(df.Mark.isNull()).show()"
   ]
  },
  {
   "cell_type": "markdown",
   "metadata": {},
   "source": [
    "## Filter all record without NULL values"
   ]
  },
  {
   "cell_type": "code",
   "execution_count": 8,
   "metadata": {},
   "outputs": [
    {
     "name": "stdout",
     "output_type": "stream",
     "text": [
      "+-------+-------+----+------+----------+\n",
      "|   Name|Subject|Mark|Status|Attendance|\n",
      "+-------+-------+----+------+----------+\n",
      "|Michael|Science|  80|     P|        90|\n",
      "|  David|English|  20|     F|        80|\n",
      "| Blessy|   NULL|  30|     F|        50|\n",
      "+-------+-------+----+------+----------+\n",
      "\n"
     ]
    }
   ],
   "source": [
    "df.filter( (df.Mark.isNotNull()) & (df.Attendance.isNotNull())).show()   "
   ]
  }
 ],
 "metadata": {
  "kernelspec": {
   "display_name": "Python 3",
   "language": "python",
   "name": "python3"
  },
  "language_info": {
   "codemirror_mode": {
    "name": "ipython",
    "version": 3
   },
   "file_extension": ".py",
   "mimetype": "text/x-python",
   "name": "python",
   "nbconvert_exporter": "python",
   "pygments_lexer": "ipython3",
   "version": "3.10.11"
  }
 },
 "nbformat": 4,
 "nbformat_minor": 2
}
